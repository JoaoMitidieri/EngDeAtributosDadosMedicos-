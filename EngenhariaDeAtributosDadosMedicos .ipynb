{
 "cells": [
  {
   "cell_type": "markdown",
   "id": "e75332a9",
   "metadata": {},
   "source": [
    "# Engenharia de Atributos em Dados Médicos "
   ]
  },
  {
   "cell_type": "markdown",
   "id": "a0c4b014",
   "metadata": {},
   "source": [
    "### Contexto:\n",
    "As   readmissões   hospitalares (quando   um   paciente   recebe   alta   mas   é   internado novamente pouco tempo depois) são caras e refletem as inadequações no sistema de saúde.\n",
    "\n",
    "A readmissão hospitalar é uma das principais preocupações no tratamento do diabetes, com milhões de dólares sendo gastos no tratamento de pacientes diabéticos que precisam ser readmitidos em um hospital após receberem alta.\n"
   ]
  },
  {
   "cell_type": "markdown",
   "id": "10be5a81",
   "metadata": {},
   "source": [
    "### Definição do Problema:\n",
    "Identificar  os  pacientes  diabéticos  de  alto  risco  por  meio  de estratificação de risco de registros médicos eletrônicos, para baixar as readmissões de pacientes de diabetes."
   ]
  },
  {
   "cell_type": "markdown",
   "id": "af9d479d",
   "metadata": {},
   "source": [
    "### Fonte de Dados: \n",
    "http://archive.ics.uci.edu/ml/datasets/diabetes+130-us+hospitals+for+years+1999-2008Os "
   ]
  },
  {
   "cell_type": "markdown",
   "id": "d9b0646c",
   "metadata": {},
   "source": [
    "\n",
    "### Instalando e Carregando os Pacotes"
   ]
  },
  {
   "cell_type": "code",
   "execution_count": 1,
   "id": "efb0a842",
   "metadata": {},
   "outputs": [],
   "source": [
    "import numpy as np\n",
    "import pandas as pd\n",
    "import matplotlib\n",
    "import matplotlib.pyplot as plt\n",
    "import seaborn as sns"
   ]
  },
  {
   "cell_type": "markdown",
   "id": "0daeb481",
   "metadata": {},
   "source": [
    "### Carregando os Dados e Compreendendo as Variáveis"
   ]
  },
  {
   "cell_type": "code",
   "execution_count": 2,
   "id": "55b80a23",
   "metadata": {},
   "outputs": [],
   "source": [
    "dados = pd.read_csv('dados/diabetic_data.csv')"
   ]
  },
  {
   "cell_type": "code",
   "execution_count": 3,
   "id": "f4f85f4c",
   "metadata": {},
   "outputs": [
    {
     "data": {
      "text/plain": [
       "(101766, 50)"
      ]
     },
     "execution_count": 3,
     "metadata": {},
     "output_type": "execute_result"
    }
   ],
   "source": [
    "dados.shape"
   ]
  },
  {
   "cell_type": "code",
   "execution_count": 4,
   "id": "79f3988a",
   "metadata": {},
   "outputs": [
    {
     "data": {
      "text/html": [
       "<div>\n",
       "<style scoped>\n",
       "    .dataframe tbody tr th:only-of-type {\n",
       "        vertical-align: middle;\n",
       "    }\n",
       "\n",
       "    .dataframe tbody tr th {\n",
       "        vertical-align: top;\n",
       "    }\n",
       "\n",
       "    .dataframe thead th {\n",
       "        text-align: right;\n",
       "    }\n",
       "</style>\n",
       "<table border=\"1\" class=\"dataframe\">\n",
       "  <thead>\n",
       "    <tr style=\"text-align: right;\">\n",
       "      <th></th>\n",
       "      <th>encounter_id</th>\n",
       "      <th>patient_nbr</th>\n",
       "      <th>race</th>\n",
       "      <th>gender</th>\n",
       "      <th>age</th>\n",
       "      <th>weight</th>\n",
       "      <th>admission_type_id</th>\n",
       "      <th>discharge_disposition_id</th>\n",
       "      <th>admission_source_id</th>\n",
       "      <th>time_in_hospital</th>\n",
       "      <th>...</th>\n",
       "      <th>citoglipton</th>\n",
       "      <th>insulin</th>\n",
       "      <th>glyburide-metformin</th>\n",
       "      <th>glipizide-metformin</th>\n",
       "      <th>glimepiride-pioglitazone</th>\n",
       "      <th>metformin-rosiglitazone</th>\n",
       "      <th>metformin-pioglitazone</th>\n",
       "      <th>change</th>\n",
       "      <th>diabetesMed</th>\n",
       "      <th>readmitted</th>\n",
       "    </tr>\n",
       "  </thead>\n",
       "  <tbody>\n",
       "    <tr>\n",
       "      <th>0</th>\n",
       "      <td>2278392</td>\n",
       "      <td>8222157</td>\n",
       "      <td>Caucasian</td>\n",
       "      <td>Female</td>\n",
       "      <td>[0-10)</td>\n",
       "      <td>?</td>\n",
       "      <td>6</td>\n",
       "      <td>25</td>\n",
       "      <td>1</td>\n",
       "      <td>1</td>\n",
       "      <td>...</td>\n",
       "      <td>No</td>\n",
       "      <td>No</td>\n",
       "      <td>No</td>\n",
       "      <td>No</td>\n",
       "      <td>No</td>\n",
       "      <td>No</td>\n",
       "      <td>No</td>\n",
       "      <td>No</td>\n",
       "      <td>No</td>\n",
       "      <td>NO</td>\n",
       "    </tr>\n",
       "    <tr>\n",
       "      <th>1</th>\n",
       "      <td>149190</td>\n",
       "      <td>55629189</td>\n",
       "      <td>Caucasian</td>\n",
       "      <td>Female</td>\n",
       "      <td>[10-20)</td>\n",
       "      <td>?</td>\n",
       "      <td>1</td>\n",
       "      <td>1</td>\n",
       "      <td>7</td>\n",
       "      <td>3</td>\n",
       "      <td>...</td>\n",
       "      <td>No</td>\n",
       "      <td>Up</td>\n",
       "      <td>No</td>\n",
       "      <td>No</td>\n",
       "      <td>No</td>\n",
       "      <td>No</td>\n",
       "      <td>No</td>\n",
       "      <td>Ch</td>\n",
       "      <td>Yes</td>\n",
       "      <td>&gt;30</td>\n",
       "    </tr>\n",
       "    <tr>\n",
       "      <th>2</th>\n",
       "      <td>64410</td>\n",
       "      <td>86047875</td>\n",
       "      <td>AfricanAmerican</td>\n",
       "      <td>Female</td>\n",
       "      <td>[20-30)</td>\n",
       "      <td>?</td>\n",
       "      <td>1</td>\n",
       "      <td>1</td>\n",
       "      <td>7</td>\n",
       "      <td>2</td>\n",
       "      <td>...</td>\n",
       "      <td>No</td>\n",
       "      <td>No</td>\n",
       "      <td>No</td>\n",
       "      <td>No</td>\n",
       "      <td>No</td>\n",
       "      <td>No</td>\n",
       "      <td>No</td>\n",
       "      <td>No</td>\n",
       "      <td>Yes</td>\n",
       "      <td>NO</td>\n",
       "    </tr>\n",
       "    <tr>\n",
       "      <th>3</th>\n",
       "      <td>500364</td>\n",
       "      <td>82442376</td>\n",
       "      <td>Caucasian</td>\n",
       "      <td>Male</td>\n",
       "      <td>[30-40)</td>\n",
       "      <td>?</td>\n",
       "      <td>1</td>\n",
       "      <td>1</td>\n",
       "      <td>7</td>\n",
       "      <td>2</td>\n",
       "      <td>...</td>\n",
       "      <td>No</td>\n",
       "      <td>Up</td>\n",
       "      <td>No</td>\n",
       "      <td>No</td>\n",
       "      <td>No</td>\n",
       "      <td>No</td>\n",
       "      <td>No</td>\n",
       "      <td>Ch</td>\n",
       "      <td>Yes</td>\n",
       "      <td>NO</td>\n",
       "    </tr>\n",
       "    <tr>\n",
       "      <th>4</th>\n",
       "      <td>16680</td>\n",
       "      <td>42519267</td>\n",
       "      <td>Caucasian</td>\n",
       "      <td>Male</td>\n",
       "      <td>[40-50)</td>\n",
       "      <td>?</td>\n",
       "      <td>1</td>\n",
       "      <td>1</td>\n",
       "      <td>7</td>\n",
       "      <td>1</td>\n",
       "      <td>...</td>\n",
       "      <td>No</td>\n",
       "      <td>Steady</td>\n",
       "      <td>No</td>\n",
       "      <td>No</td>\n",
       "      <td>No</td>\n",
       "      <td>No</td>\n",
       "      <td>No</td>\n",
       "      <td>Ch</td>\n",
       "      <td>Yes</td>\n",
       "      <td>NO</td>\n",
       "    </tr>\n",
       "  </tbody>\n",
       "</table>\n",
       "<p>5 rows × 50 columns</p>\n",
       "</div>"
      ],
      "text/plain": [
       "   encounter_id  patient_nbr             race  gender      age weight  \\\n",
       "0       2278392      8222157        Caucasian  Female   [0-10)      ?   \n",
       "1        149190     55629189        Caucasian  Female  [10-20)      ?   \n",
       "2         64410     86047875  AfricanAmerican  Female  [20-30)      ?   \n",
       "3        500364     82442376        Caucasian    Male  [30-40)      ?   \n",
       "4         16680     42519267        Caucasian    Male  [40-50)      ?   \n",
       "\n",
       "   admission_type_id  discharge_disposition_id  admission_source_id  \\\n",
       "0                  6                        25                    1   \n",
       "1                  1                         1                    7   \n",
       "2                  1                         1                    7   \n",
       "3                  1                         1                    7   \n",
       "4                  1                         1                    7   \n",
       "\n",
       "   time_in_hospital  ... citoglipton insulin  glyburide-metformin  \\\n",
       "0                 1  ...          No      No                   No   \n",
       "1                 3  ...          No      Up                   No   \n",
       "2                 2  ...          No      No                   No   \n",
       "3                 2  ...          No      Up                   No   \n",
       "4                 1  ...          No  Steady                   No   \n",
       "\n",
       "   glipizide-metformin  glimepiride-pioglitazone  metformin-rosiglitazone  \\\n",
       "0                   No                        No                       No   \n",
       "1                   No                        No                       No   \n",
       "2                   No                        No                       No   \n",
       "3                   No                        No                       No   \n",
       "4                   No                        No                       No   \n",
       "\n",
       "   metformin-pioglitazone  change diabetesMed readmitted  \n",
       "0                      No      No          No         NO  \n",
       "1                      No      Ch         Yes        >30  \n",
       "2                      No      No         Yes         NO  \n",
       "3                      No      Ch         Yes         NO  \n",
       "4                      No      Ch         Yes         NO  \n",
       "\n",
       "[5 rows x 50 columns]"
      ]
     },
     "execution_count": 4,
     "metadata": {},
     "output_type": "execute_result"
    }
   ],
   "source": [
    "# Visualizando os dados\n",
    "dados.head()"
   ]
  },
  {
   "cell_type": "code",
   "execution_count": 5,
   "id": "25068b79",
   "metadata": {},
   "outputs": [
    {
     "name": "stdout",
     "output_type": "stream",
     "text": [
      "<class 'pandas.core.frame.DataFrame'>\n",
      "RangeIndex: 101766 entries, 0 to 101765\n",
      "Data columns (total 50 columns):\n",
      " #   Column                    Non-Null Count   Dtype \n",
      "---  ------                    --------------   ----- \n",
      " 0   encounter_id              101766 non-null  int64 \n",
      " 1   patient_nbr               101766 non-null  int64 \n",
      " 2   race                      101766 non-null  object\n",
      " 3   gender                    101766 non-null  object\n",
      " 4   age                       101766 non-null  object\n",
      " 5   weight                    101766 non-null  object\n",
      " 6   admission_type_id         101766 non-null  int64 \n",
      " 7   discharge_disposition_id  101766 non-null  int64 \n",
      " 8   admission_source_id       101766 non-null  int64 \n",
      " 9   time_in_hospital          101766 non-null  int64 \n",
      " 10  payer_code                101766 non-null  object\n",
      " 11  medical_specialty         101766 non-null  object\n",
      " 12  num_lab_procedures        101766 non-null  int64 \n",
      " 13  num_procedures            101766 non-null  int64 \n",
      " 14  num_medications           101766 non-null  int64 \n",
      " 15  number_outpatient         101766 non-null  int64 \n",
      " 16  number_emergency          101766 non-null  int64 \n",
      " 17  number_inpatient          101766 non-null  int64 \n",
      " 18  diag_1                    101766 non-null  object\n",
      " 19  diag_2                    101766 non-null  object\n",
      " 20  diag_3                    101766 non-null  object\n",
      " 21  number_diagnoses          101766 non-null  int64 \n",
      " 22  max_glu_serum             101766 non-null  object\n",
      " 23  A1Cresult                 101766 non-null  object\n",
      " 24  metformin                 101766 non-null  object\n",
      " 25  repaglinide               101766 non-null  object\n",
      " 26  nateglinide               101766 non-null  object\n",
      " 27  chlorpropamide            101766 non-null  object\n",
      " 28  glimepiride               101766 non-null  object\n",
      " 29  acetohexamide             101766 non-null  object\n",
      " 30  glipizide                 101766 non-null  object\n",
      " 31  glyburide                 101766 non-null  object\n",
      " 32  tolbutamide               101766 non-null  object\n",
      " 33  pioglitazone              101766 non-null  object\n",
      " 34  rosiglitazone             101766 non-null  object\n",
      " 35  acarbose                  101766 non-null  object\n",
      " 36  miglitol                  101766 non-null  object\n",
      " 37  troglitazone              101766 non-null  object\n",
      " 38  tolazamide                101766 non-null  object\n",
      " 39  examide                   101766 non-null  object\n",
      " 40  citoglipton               101766 non-null  object\n",
      " 41  insulin                   101766 non-null  object\n",
      " 42  glyburide-metformin       101766 non-null  object\n",
      " 43  glipizide-metformin       101766 non-null  object\n",
      " 44  glimepiride-pioglitazone  101766 non-null  object\n",
      " 45  metformin-rosiglitazone   101766 non-null  object\n",
      " 46  metformin-pioglitazone    101766 non-null  object\n",
      " 47  change                    101766 non-null  object\n",
      " 48  diabetesMed               101766 non-null  object\n",
      " 49  readmitted                101766 non-null  object\n",
      "dtypes: int64(13), object(37)\n",
      "memory usage: 38.8+ MB\n"
     ]
    }
   ],
   "source": [
    "# Info\n",
    "dados.info()"
   ]
  },
  {
   "cell_type": "markdown",
   "id": "bdbd7ecf",
   "metadata": {},
   "source": [
    "### Limpeza e Transformação dos Dados"
   ]
  },
  {
   "cell_type": "code",
   "execution_count": 6,
   "id": "fbca4322",
   "metadata": {},
   "outputs": [
    {
     "data": {
      "text/plain": [
       "encounter_id                0\n",
       "patient_nbr                 0\n",
       "race                        0\n",
       "gender                      0\n",
       "age                         0\n",
       "weight                      0\n",
       "admission_type_id           0\n",
       "discharge_disposition_id    0\n",
       "admission_source_id         0\n",
       "time_in_hospital            0\n",
       "payer_code                  0\n",
       "medical_specialty           0\n",
       "num_lab_procedures          0\n",
       "num_procedures              0\n",
       "num_medications             0\n",
       "number_outpatient           0\n",
       "number_emergency            0\n",
       "number_inpatient            0\n",
       "diag_1                      0\n",
       "diag_2                      0\n",
       "diag_3                      0\n",
       "number_diagnoses            0\n",
       "max_glu_serum               0\n",
       "A1Cresult                   0\n",
       "metformin                   0\n",
       "repaglinide                 0\n",
       "nateglinide                 0\n",
       "chlorpropamide              0\n",
       "glimepiride                 0\n",
       "acetohexamide               0\n",
       "glipizide                   0\n",
       "glyburide                   0\n",
       "tolbutamide                 0\n",
       "pioglitazone                0\n",
       "rosiglitazone               0\n",
       "acarbose                    0\n",
       "miglitol                    0\n",
       "troglitazone                0\n",
       "tolazamide                  0\n",
       "examide                     0\n",
       "citoglipton                 0\n",
       "insulin                     0\n",
       "glyburide-metformin         0\n",
       "glipizide-metformin         0\n",
       "glimepiride-pioglitazone    0\n",
       "metformin-rosiglitazone     0\n",
       "metformin-pioglitazone      0\n",
       "change                      0\n",
       "diabetesMed                 0\n",
       "readmitted                  0\n",
       "dtype: int64"
      ]
     },
     "execution_count": 6,
     "metadata": {},
     "output_type": "execute_result"
    }
   ],
   "source": [
    "dados.isnull().sum()"
   ]
  },
  {
   "cell_type": "code",
   "execution_count": 7,
   "id": "12838ce0",
   "metadata": {},
   "outputs": [
    {
     "data": {
      "text/plain": [
       "encounter_id                False\n",
       "patient_nbr                 False\n",
       "race                         True\n",
       "gender                      False\n",
       "age                         False\n",
       "weight                       True\n",
       "admission_type_id           False\n",
       "discharge_disposition_id    False\n",
       "admission_source_id         False\n",
       "time_in_hospital            False\n",
       "payer_code                   True\n",
       "medical_specialty            True\n",
       "num_lab_procedures          False\n",
       "num_procedures              False\n",
       "num_medications             False\n",
       "number_outpatient           False\n",
       "number_emergency            False\n",
       "number_inpatient            False\n",
       "diag_1                       True\n",
       "diag_2                       True\n",
       "diag_3                       True\n",
       "number_diagnoses            False\n",
       "max_glu_serum               False\n",
       "A1Cresult                   False\n",
       "metformin                   False\n",
       "repaglinide                 False\n",
       "nateglinide                 False\n",
       "chlorpropamide              False\n",
       "glimepiride                 False\n",
       "acetohexamide               False\n",
       "glipizide                   False\n",
       "glyburide                   False\n",
       "tolbutamide                 False\n",
       "pioglitazone                False\n",
       "rosiglitazone               False\n",
       "acarbose                    False\n",
       "miglitol                    False\n",
       "troglitazone                False\n",
       "tolazamide                  False\n",
       "examide                     False\n",
       "citoglipton                 False\n",
       "insulin                     False\n",
       "glyburide-metformin         False\n",
       "glipizide-metformin         False\n",
       "glimepiride-pioglitazone    False\n",
       "metformin-rosiglitazone     False\n",
       "metformin-pioglitazone      False\n",
       "change                      False\n",
       "diabetesMed                 False\n",
       "readmitted                  False\n",
       "dtype: bool"
      ]
     },
     "execution_count": 7,
     "metadata": {},
     "output_type": "execute_result"
    }
   ],
   "source": [
    "# Checando as colunas que tem valor = '?'\n",
    "dados.isin(['?']).any()"
   ]
  },
  {
   "cell_type": "code",
   "execution_count": 8,
   "id": "fb1f01e3",
   "metadata": {},
   "outputs": [
    {
     "name": "stdout",
     "output_type": "stream",
     "text": [
      "\n",
      "\n",
      "encounter_id: 101766 valores únicos\n",
      "\n",
      "\n",
      "patient_nbr: 71518 valores únicos\n",
      "\n",
      "\n",
      "race: 6 valores únicos\n",
      "['Caucasian' 'AfricanAmerican' '?' 'Other' 'Asian' 'Hispanic']\n",
      "\n",
      "\n",
      "gender: 3 valores únicos\n",
      "['Female' 'Male' 'Unknown/Invalid']\n",
      "\n",
      "\n",
      "age: 10 valores únicos\n",
      "['[0-10)' '[10-20)' '[20-30)' '[30-40)' '[40-50)' '[50-60)' '[60-70)'\n",
      " '[70-80)' '[80-90)' '[90-100)']\n",
      "\n",
      "\n",
      "weight: 10 valores únicos\n",
      "['?' '[75-100)' '[50-75)' '[0-25)' '[100-125)' '[25-50)' '[125-150)'\n",
      " '[175-200)' '[150-175)' '>200']\n",
      "\n",
      "\n",
      "admission_type_id: 8 valores únicos\n",
      "[6 1 2 3 4 5 8 7]\n",
      "\n",
      "\n",
      "discharge_disposition_id: 26 valores únicos\n",
      "\n",
      "\n",
      "admission_source_id: 17 valores únicos\n",
      "\n",
      "\n",
      "time_in_hospital: 14 valores únicos\n",
      "[ 1  3  2  4  5 13 12  9  7 10  6 11  8 14]\n",
      "\n",
      "\n",
      "payer_code: 18 valores únicos\n",
      "\n",
      "\n",
      "medical_specialty: 73 valores únicos\n",
      "\n",
      "\n",
      "num_lab_procedures: 118 valores únicos\n",
      "\n",
      "\n",
      "num_procedures: 7 valores únicos\n",
      "[0 5 1 6 2 3 4]\n",
      "\n",
      "\n",
      "num_medications: 75 valores únicos\n",
      "\n",
      "\n",
      "number_outpatient: 39 valores únicos\n",
      "\n",
      "\n",
      "number_emergency: 33 valores únicos\n",
      "\n",
      "\n",
      "number_inpatient: 21 valores únicos\n",
      "\n",
      "\n",
      "diag_1: 717 valores únicos\n",
      "\n",
      "\n",
      "diag_2: 749 valores únicos\n",
      "\n",
      "\n",
      "diag_3: 790 valores únicos\n",
      "\n",
      "\n",
      "number_diagnoses: 16 valores únicos\n",
      "\n",
      "\n",
      "max_glu_serum: 4 valores únicos\n",
      "['None' '>300' 'Norm' '>200']\n",
      "\n",
      "\n",
      "A1Cresult: 4 valores únicos\n",
      "['None' '>7' '>8' 'Norm']\n",
      "\n",
      "\n",
      "metformin: 4 valores únicos\n",
      "['No' 'Steady' 'Up' 'Down']\n",
      "\n",
      "\n",
      "repaglinide: 4 valores únicos\n",
      "['No' 'Up' 'Steady' 'Down']\n",
      "\n",
      "\n",
      "nateglinide: 4 valores únicos\n",
      "['No' 'Steady' 'Down' 'Up']\n",
      "\n",
      "\n",
      "chlorpropamide: 4 valores únicos\n",
      "['No' 'Steady' 'Down' 'Up']\n",
      "\n",
      "\n",
      "glimepiride: 4 valores únicos\n",
      "['No' 'Steady' 'Down' 'Up']\n",
      "\n",
      "\n",
      "acetohexamide: 2 valores únicos\n",
      "['No' 'Steady']\n",
      "\n",
      "\n",
      "glipizide: 4 valores únicos\n",
      "['No' 'Steady' 'Up' 'Down']\n",
      "\n",
      "\n",
      "glyburide: 4 valores únicos\n",
      "['No' 'Steady' 'Up' 'Down']\n",
      "\n",
      "\n",
      "tolbutamide: 2 valores únicos\n",
      "['No' 'Steady']\n",
      "\n",
      "\n",
      "pioglitazone: 4 valores únicos\n",
      "['No' 'Steady' 'Up' 'Down']\n",
      "\n",
      "\n",
      "rosiglitazone: 4 valores únicos\n",
      "['No' 'Steady' 'Up' 'Down']\n",
      "\n",
      "\n",
      "acarbose: 4 valores únicos\n",
      "['No' 'Steady' 'Up' 'Down']\n",
      "\n",
      "\n",
      "miglitol: 4 valores únicos\n",
      "['No' 'Steady' 'Down' 'Up']\n",
      "\n",
      "\n",
      "troglitazone: 2 valores únicos\n",
      "['No' 'Steady']\n",
      "\n",
      "\n",
      "tolazamide: 3 valores únicos\n",
      "['No' 'Steady' 'Up']\n",
      "\n",
      "\n",
      "examide: 1 valores únicos\n",
      "['No']\n",
      "\n",
      "\n",
      "citoglipton: 1 valores únicos\n",
      "['No']\n",
      "\n",
      "\n",
      "insulin: 4 valores únicos\n",
      "['No' 'Up' 'Steady' 'Down']\n",
      "\n",
      "\n",
      "glyburide-metformin: 4 valores únicos\n",
      "['No' 'Steady' 'Down' 'Up']\n",
      "\n",
      "\n",
      "glipizide-metformin: 2 valores únicos\n",
      "['No' 'Steady']\n",
      "\n",
      "\n",
      "glimepiride-pioglitazone: 2 valores únicos\n",
      "['No' 'Steady']\n",
      "\n",
      "\n",
      "metformin-rosiglitazone: 2 valores únicos\n",
      "['No' 'Steady']\n",
      "\n",
      "\n",
      "metformin-pioglitazone: 2 valores únicos\n",
      "['No' 'Steady']\n",
      "\n",
      "\n",
      "change: 2 valores únicos\n",
      "['No' 'Ch']\n",
      "\n",
      "\n",
      "diabetesMed: 2 valores únicos\n",
      "['No' 'Yes']\n",
      "\n",
      "\n",
      "readmitted: 3 valores únicos\n",
      "['NO' '>30' '<30']\n"
     ]
    }
   ],
   "source": [
    "# Verificando valores únicos\n",
    "for col in list(dados.columns):\n",
    "    \n",
    "    # Obtém uma lista de valores únicos\n",
    "    list_of_unique_values = dados[col].unique()\n",
    "    \n",
    "    # Se o número de valores exclusivos for menor de 15, imprima os valores.\n",
    "    # Se não, imprima o número de valores exclusivos\n",
    "    if len(list_of_unique_values) < 15:\n",
    "        print('\\n')\n",
    "        print(col + ': ' + str(len(list_of_unique_values)) + ' valores únicos')\n",
    "        print(list_of_unique_values)\n",
    "    else:\n",
    "        print('\\n')\n",
    "        print(col + ': ' + str(len(list_of_unique_values)) + ' valores únicos')"
   ]
  },
  {
   "cell_type": "markdown",
   "id": "fa060a81",
   "metadata": {},
   "source": [
    "- O caracter '?' nada mais é do que valor ausente. "
   ]
  },
  {
   "cell_type": "code",
   "execution_count": 9,
   "id": "59077d94",
   "metadata": {},
   "outputs": [
    {
     "name": "stdout",
     "output_type": "stream",
     "text": [
      "Quantidade de registros com valor igual a '?': 192849\n"
     ]
    }
   ],
   "source": [
    "# Verificar a quantidade de registros com valor igual a '?'\n",
    "quantidade = dados[dados == '?'].count().sum()\n",
    "\n",
    "print(\"Quantidade de registros com valor igual a '?':\", quantidade)\n"
   ]
  },
  {
   "cell_type": "code",
   "execution_count": 10,
   "id": "390d0a95",
   "metadata": {},
   "outputs": [
    {
     "name": "stdout",
     "output_type": "stream",
     "text": [
      "\n",
      "Coluna race tem 2273 valores com o caractere \"?\"\n",
      "Isso representa 2.23 % do total\n",
      "\n",
      "Coluna weight tem 98569 valores com o caractere \"?\"\n",
      "Isso representa 96.86 % do total\n",
      "\n",
      "Coluna payer_code tem 40256 valores com o caractere \"?\"\n",
      "Isso representa 39.56 % do total\n",
      "\n",
      "Coluna medical_specialty tem 49949 valores com o caractere \"?\"\n",
      "Isso representa 49.08 % do total\n",
      "\n",
      "Coluna diag_1 tem 21 valores com o caractere \"?\"\n",
      "Isso representa 0.02 % do total\n",
      "\n",
      "Coluna diag_2 tem 358 valores com o caractere \"?\"\n",
      "Isso representa 0.35 % do total\n",
      "\n",
      "Coluna diag_3 tem 1423 valores com o caractere \"?\"\n",
      "Isso representa 1.4 % do total\n"
     ]
    }
   ],
   "source": [
    "# Verificar a quantidade e percentual de registros onde o valor é igual a '?'\n",
    "for col in dados.columns:\n",
    "    if dados[col].dtype == object and '?' in dados[col].values:\n",
    "        quantidade = dados[col][dados[col] == '?'].count()\n",
    "        percentual = quantidade / len(dados.index) * 100\n",
    "\n",
    "        print('\\nColuna', col, 'tem', quantidade, 'valores com o caractere \"?\"')\n",
    "        print('Isso representa', round(percentual, 2), '% do total')"
   ]
  },
  {
   "cell_type": "code",
   "execution_count": 11,
   "id": "6aad95ce",
   "metadata": {},
   "outputs": [
    {
     "data": {
      "text/plain": [
       "3"
      ]
     },
     "execution_count": 11,
     "metadata": {},
     "output_type": "execute_result"
    }
   ],
   "source": [
    "# Quantidade de valores 'Unknown/Invalid' dentro da coluna 'gender'\n",
    "dados['gender'][dados['gender']=='Unknown/Invalid'].count()"
   ]
  },
  {
   "cell_type": "markdown",
   "id": "10e5ace6",
   "metadata": {},
   "source": [
    "**PROBLEMAS COM VALORES AUSENTES:**\n",
    "\n",
    "- Falta os dados sobre peso do paciente em mais de 96% dos registros. \n",
    "\n",
    "- O código do pagador e a especialidade médica também apresentam valores ausentes de 40 a 50%. \n",
    "\n",
    "- As demais variáveis apresentam um baixo percentual de valores ausentes.\n",
    "\n"
   ]
  },
  {
   "cell_type": "markdown",
   "id": "2e388b22",
   "metadata": {},
   "source": [
    "**DECISÃO**\n",
    "\n",
    "- 1- Devido à fraca interpretabilidade dos valores ausentes da variável peso, o melhor é simplesmente ignorar a variável e removê-la.\n",
    "\n",
    "- 2- Vamos descartar as variáveis payer_code e medical_specialty, pois seria difícil tratar quantidade muito grande de valores ausentes.\n",
    "\n",
    "- 3- Vamos remover os registros com \"?\" das demais variáveis.\n",
    "\n",
    "- 4- Para a variável gender vamos remover os 3 registros com categoria \"Unknown/Invalid\"."
   ]
  },
  {
   "cell_type": "code",
   "execution_count": 12,
   "id": "84d430dd",
   "metadata": {},
   "outputs": [],
   "source": [
    "# Removendo as 3 colunas com alto percentual de valores ausentes\n",
    "dados = dados.drop(['weight', 'payer_code', 'medical_specialty'], axis=1)"
   ]
  },
  {
   "cell_type": "code",
   "execution_count": 13,
   "id": "e5bdef64",
   "metadata": {},
   "outputs": [],
   "source": [
    "# Removemos os registros com baixo percentual de valores ausentes\n",
    "dados = dados[dados['race'] != '?']\n",
    "dados = dados[dados['diag_1'] != '?']\n",
    "dados = dados[dados['diag_2'] != '?']\n",
    "dados = dados[dados['diag_3'] != '?']\n",
    "dados = dados[dados['gender'] != 'Unknown/Invalid']"
   ]
  },
  {
   "cell_type": "code",
   "execution_count": 14,
   "id": "39b3c5f4",
   "metadata": {},
   "outputs": [
    {
     "data": {
      "text/plain": [
       "encounter_id                False\n",
       "patient_nbr                 False\n",
       "race                        False\n",
       "gender                      False\n",
       "age                         False\n",
       "admission_type_id           False\n",
       "discharge_disposition_id    False\n",
       "admission_source_id         False\n",
       "time_in_hospital            False\n",
       "num_lab_procedures          False\n",
       "num_procedures              False\n",
       "num_medications             False\n",
       "number_outpatient           False\n",
       "number_emergency            False\n",
       "number_inpatient            False\n",
       "diag_1                      False\n",
       "diag_2                      False\n",
       "diag_3                      False\n",
       "number_diagnoses            False\n",
       "max_glu_serum               False\n",
       "A1Cresult                   False\n",
       "metformin                   False\n",
       "repaglinide                 False\n",
       "nateglinide                 False\n",
       "chlorpropamide              False\n",
       "glimepiride                 False\n",
       "acetohexamide               False\n",
       "glipizide                   False\n",
       "glyburide                   False\n",
       "tolbutamide                 False\n",
       "pioglitazone                False\n",
       "rosiglitazone               False\n",
       "acarbose                    False\n",
       "miglitol                    False\n",
       "troglitazone                False\n",
       "tolazamide                  False\n",
       "examide                     False\n",
       "citoglipton                 False\n",
       "insulin                     False\n",
       "glyburide-metformin         False\n",
       "glipizide-metformin         False\n",
       "glimepiride-pioglitazone    False\n",
       "metformin-rosiglitazone     False\n",
       "metformin-pioglitazone      False\n",
       "change                      False\n",
       "diabetesMed                 False\n",
       "readmitted                  False\n",
       "dtype: bool"
      ]
     },
     "execution_count": 14,
     "metadata": {},
     "output_type": "execute_result"
    }
   ],
   "source": [
    "# Checando as colunas que tem valor = '?'\n",
    "dados.isin(['?']).any()"
   ]
  },
  {
   "cell_type": "code",
   "execution_count": 15,
   "id": "52f046fa",
   "metadata": {},
   "outputs": [
    {
     "data": {
      "text/plain": [
       "(98052, 47)"
      ]
     },
     "execution_count": 15,
     "metadata": {},
     "output_type": "execute_result"
    }
   ],
   "source": [
    "dados.shape"
   ]
  },
  {
   "cell_type": "code",
   "execution_count": 16,
   "id": "256fea51",
   "metadata": {
    "scrolled": true
   },
   "outputs": [
    {
     "data": {
      "text/html": [
       "<div>\n",
       "<style scoped>\n",
       "    .dataframe tbody tr th:only-of-type {\n",
       "        vertical-align: middle;\n",
       "    }\n",
       "\n",
       "    .dataframe tbody tr th {\n",
       "        vertical-align: top;\n",
       "    }\n",
       "\n",
       "    .dataframe thead th {\n",
       "        text-align: right;\n",
       "    }\n",
       "</style>\n",
       "<table border=\"1\" class=\"dataframe\">\n",
       "  <thead>\n",
       "    <tr style=\"text-align: right;\">\n",
       "      <th></th>\n",
       "      <th>examide</th>\n",
       "      <th>citoglipton</th>\n",
       "      <th>metformin-rosiglitazone</th>\n",
       "    </tr>\n",
       "  </thead>\n",
       "  <tbody>\n",
       "    <tr>\n",
       "      <th>1</th>\n",
       "      <td>No</td>\n",
       "      <td>No</td>\n",
       "      <td>No</td>\n",
       "    </tr>\n",
       "    <tr>\n",
       "      <th>2</th>\n",
       "      <td>No</td>\n",
       "      <td>No</td>\n",
       "      <td>No</td>\n",
       "    </tr>\n",
       "    <tr>\n",
       "      <th>3</th>\n",
       "      <td>No</td>\n",
       "      <td>No</td>\n",
       "      <td>No</td>\n",
       "    </tr>\n",
       "    <tr>\n",
       "      <th>4</th>\n",
       "      <td>No</td>\n",
       "      <td>No</td>\n",
       "      <td>No</td>\n",
       "    </tr>\n",
       "    <tr>\n",
       "      <th>5</th>\n",
       "      <td>No</td>\n",
       "      <td>No</td>\n",
       "      <td>No</td>\n",
       "    </tr>\n",
       "    <tr>\n",
       "      <th>...</th>\n",
       "      <td>...</td>\n",
       "      <td>...</td>\n",
       "      <td>...</td>\n",
       "    </tr>\n",
       "    <tr>\n",
       "      <th>101761</th>\n",
       "      <td>No</td>\n",
       "      <td>No</td>\n",
       "      <td>No</td>\n",
       "    </tr>\n",
       "    <tr>\n",
       "      <th>101762</th>\n",
       "      <td>No</td>\n",
       "      <td>No</td>\n",
       "      <td>No</td>\n",
       "    </tr>\n",
       "    <tr>\n",
       "      <th>101763</th>\n",
       "      <td>No</td>\n",
       "      <td>No</td>\n",
       "      <td>No</td>\n",
       "    </tr>\n",
       "    <tr>\n",
       "      <th>101764</th>\n",
       "      <td>No</td>\n",
       "      <td>No</td>\n",
       "      <td>No</td>\n",
       "    </tr>\n",
       "    <tr>\n",
       "      <th>101765</th>\n",
       "      <td>No</td>\n",
       "      <td>No</td>\n",
       "      <td>No</td>\n",
       "    </tr>\n",
       "  </tbody>\n",
       "</table>\n",
       "<p>98052 rows × 3 columns</p>\n",
       "</div>"
      ],
      "text/plain": [
       "       examide citoglipton metformin-rosiglitazone\n",
       "1           No          No                      No\n",
       "2           No          No                      No\n",
       "3           No          No                      No\n",
       "4           No          No                      No\n",
       "5           No          No                      No\n",
       "...        ...         ...                     ...\n",
       "101761      No          No                      No\n",
       "101762      No          No                      No\n",
       "101763      No          No                      No\n",
       "101764      No          No                      No\n",
       "101765      No          No                      No\n",
       "\n",
       "[98052 rows x 3 columns]"
      ]
     },
     "execution_count": 16,
     "metadata": {},
     "output_type": "execute_result"
    }
   ],
   "source": [
    "# Checando por variáveis com um único valor\n",
    "dados.loc[:, dados.nunique() == 1]"
   ]
  },
  {
   "cell_type": "code",
   "execution_count": 17,
   "id": "764253f5",
   "metadata": {},
   "outputs": [],
   "source": [
    "# Removendoo variáveis com valores únicos\n",
    "dados = dados.drop(['examide', 'citoglipton', 'metformin-rosiglitazone'], axis=1)"
   ]
  },
  {
   "cell_type": "code",
   "execution_count": 18,
   "id": "3eb26df0",
   "metadata": {},
   "outputs": [
    {
     "data": {
      "text/plain": [
       "(98052, 44)"
      ]
     },
     "execution_count": 18,
     "metadata": {},
     "output_type": "execute_result"
    }
   ],
   "source": [
    "dados.shape\n"
   ]
  },
  {
   "cell_type": "markdown",
   "id": "1d9159c8",
   "metadata": {},
   "source": [
    "## Engenharia de Atributos"
   ]
  },
  {
   "cell_type": "markdown",
   "id": "7b7b2d00",
   "metadata": {},
   "source": [
    "### Ajustando a Variável Alvo Para Estratificação de Risco\n",
    "**Variável: readmitted**\n",
    "\n",
    "Uma readmissão hospitalar ocorre quando um paciente que recebe alta do hospital é readmitido novamente dentro de um certo período de tempo. As taxas de readmissão hospitalar para certas condições agora são consideradas um indicador da qualidade do hospital e também afetam negativamente o custo médico. "
   ]
  },
  {
   "cell_type": "markdown",
   "id": "5bf92811",
   "metadata": {},
   "source": [
    "Nossa variável alvo é 'readmiited'. Queremos saber se um paciente será readmitido no hospital ou não.\n",
    "\n",
    "A variável possui os valores:\n",
    "\n",
    "-- < 30 (readmissão em menos de 30 dias)\n",
    "\n",
    "-- > 30 (readmissão em mais de 30 dias)\n",
    "\n",
    "-- No   (sem readmissão)\n",
    "\n",
    "Nós podemos combinar a readmissão antes de 30 dias e após 30 dias em uma categoria (valor 1 - classe positiva) e nenhuma readmissão em outra categoria (valor 0 - classe negativa) para tornar nosso problema classificação binária."
   ]
  },
  {
   "cell_type": "code",
   "execution_count": 19,
   "id": "8078aa2e",
   "metadata": {},
   "outputs": [
    {
     "data": {
      "text/plain": [
       "NO     52337\n",
       ">30    34649\n",
       "<30    11066\n",
       "Name: readmitted, dtype: int64"
      ]
     },
     "execution_count": 19,
     "metadata": {},
     "output_type": "execute_result"
    }
   ],
   "source": [
    "dados['readmitted'].value_counts()"
   ]
  },
  {
   "cell_type": "code",
   "execution_count": 20,
   "id": "6eadacba",
   "metadata": {},
   "outputs": [],
   "source": [
    "#riar uma cópia do dataset até aqui\n",
    "dados_clean1 = dados"
   ]
  },
  {
   "cell_type": "code",
   "execution_count": 21,
   "id": "3c86d92b",
   "metadata": {},
   "outputs": [],
   "source": [
    "# Ajustando a variável alvo\n",
    "\n",
    "# '0' significa que não foi readmitido\n",
    "# '1' significa que foi readmitido, não importa quantos dias após a alta\n",
    "dados['readmitted'] = dados['readmitted'].replace('>30', 1)\n",
    "dados['readmitted'] = dados['readmitted'].replace('<30', 1)\n",
    "dados['readmitted'] = dados['readmitted'].replace('NO', 0)"
   ]
  },
  {
   "cell_type": "code",
   "execution_count": 22,
   "id": "013435e9",
   "metadata": {},
   "outputs": [
    {
     "data": {
      "text/plain": [
       "array([1, 0], dtype=int64)"
      ]
     },
     "execution_count": 22,
     "metadata": {},
     "output_type": "execute_result"
    }
   ],
   "source": [
    "# Verificando os valores únicos\n",
    "dados['readmitted'].unique()"
   ]
  },
  {
   "cell_type": "code",
   "execution_count": 23,
   "id": "73e89641",
   "metadata": {},
   "outputs": [
    {
     "data": {
      "text/plain": [
       "0    52337\n",
       "1    45715\n",
       "Name: readmitted, dtype: int64"
      ]
     },
     "execution_count": 23,
     "metadata": {},
     "output_type": "execute_result"
    }
   ],
   "source": [
    "# Verificando a proporção de cada classe\n",
    "dados['readmitted'].value_counts()"
   ]
  },
  {
   "cell_type": "code",
   "execution_count": 24,
   "id": "08a2d606",
   "metadata": {},
   "outputs": [
    {
     "data": {
      "image/png": "[encoded data removed]",
      "text/plain": [
       "<Figure size 432x288 with 1 Axes>"
      ]
     },
     "metadata": {},
     "output_type": "display_data"
    }
   ],
   "source": [
    "# Vamos visualizar de forma gráfica\n",
    "\n",
    "# Percentual de cada valor da variável alvo\n",
    "percentual = round(dados.readmitted.value_counts() / len(dados.index) * 100, 0)\n",
    "\n",
    "# Labels\n",
    "labels = ['Não Readmitido', 'Readmitido']\n",
    "\n",
    "# Plot\n",
    "plt.axis(\"equal\")\n",
    "plt.pie(percentual , \n",
    "        labels = labels,\n",
    "        radius = 1.6,\n",
    "        autopct = '%1.2f%%',\n",
    "        explode = [0.05,0.05],\n",
    "        startangle = 90,\n",
    "        shadow = True,\n",
    "        counterclock = False,\n",
    "        pctdistance = 0.6)\n",
    "plt.show()"
   ]
  },
  {
   "cell_type": "markdown",
   "id": "1fd5c7d8",
   "metadata": {},
   "source": [
    "Cerca de 47% dos pacientes de diabetes foram readmitidos nos hospitais."
   ]
  },
  {
   "cell_type": "markdown",
   "id": "63b5ad9f",
   "metadata": {},
   "source": [
    "- Recategorização de Variável\n",
    "\n",
    "**Variável: age**"
   ]
  },
  {
   "cell_type": "code",
   "execution_count": 25,
   "id": "9c14f6e2",
   "metadata": {},
   "outputs": [
    {
     "data": {
      "text/plain": [
       "dtype('O')"
      ]
     },
     "execution_count": 25,
     "metadata": {},
     "output_type": "execute_result"
    }
   ],
   "source": [
    "# Tipo da variável\n",
    "dados.age.dtype"
   ]
  },
  {
   "cell_type": "code",
   "execution_count": 26,
   "id": "1e6877f1",
   "metadata": {},
   "outputs": [
    {
     "data": {
      "text/plain": [
       "age\n",
       "[0-10)         65\n",
       "[10-20)       466\n",
       "[20-30)      1478\n",
       "[30-40)      3548\n",
       "[40-50)      9265\n",
       "[50-60)     16697\n",
       "[60-70)     21809\n",
       "[70-80)     25305\n",
       "[80-90)     16702\n",
       "[90-100)     2717\n",
       "dtype: int64"
      ]
     },
     "execution_count": 26,
     "metadata": {},
     "output_type": "execute_result"
    }
   ],
   "source": [
    "# Total de pacientes por faixa etária\n",
    "dados.groupby('age').size()"
   ]
  },
  {
   "cell_type": "code",
   "execution_count": 27,
   "id": "9d0e1ddb",
   "metadata": {},
   "outputs": [
    {
     "data": {
      "text/plain": [
       "Text(0, 0.5, 'Count')"
      ]
     },
     "execution_count": 27,
     "metadata": {},
     "output_type": "execute_result"
    },
    {
     "data": {
      "image/png": "[encoded data removed]",
      "text/plain": [
       "<Figure size 432x288 with 1 Axes>"
      ]
     },
     "metadata": {
      "needs_background": "light"
     },
     "output_type": "display_data"
    }
   ],
   "source": [
    "dados.groupby('age').size().plot(kind='bar')\n",
    "plt.ylabel('Count')"
   ]
  },
  {
   "cell_type": "markdown",
   "id": "53452ab3",
   "metadata": {},
   "source": [
    "Podemos perceber que a maioria dos pacientes está na faixa entre 50 e 90 anos. \n",
    "\n",
    "Existem diferentes maneiras de lidar com essa variável. O conjunto de dados nos dá a idade apenas como categorias nas faixas de 10 anos, portanto, não sabemos a idade exata de cada paciente. \n",
    "\n",
    "Vamos recategorizar a variável, distribuindo os pacientes por um número menor de faixas e manter a variável como categórica. Nesse caso, poderíamos avaliar o risco por faixa etária e não por idade."
   ]
  },
  {
   "cell_type": "code",
   "execution_count": 28,
   "id": "f686630c",
   "metadata": {},
   "outputs": [],
   "source": [
    "# Recategorizamos 'idade' para que a população seja distribuída de maneira mais uniforme\n",
    "\n",
    "# Classificamos como faixa de 0-50 pacientes de até 50 anos\n",
    "\n",
    "ate_50 = []\n",
    "for val in dados['age']:\n",
    "    if val in ['[0-10)', '[10-20)', '[20-30)', '[30-40)', '[40-50)']:\n",
    "        ate_50.append('[0-50)')\n",
    "    else:\n",
    "        ate_50.append(val)\n",
    "\n",
    "dados['age'] = pd.Series(ate_50, index=dados.index)"
   ]
  },
  {
   "cell_type": "code",
   "execution_count": 29,
   "id": "de8d802b",
   "metadata": {},
   "outputs": [],
   "source": [
    "# Acima de 80 anos ficam na faixa de 80-100\n",
    "acima_80 = []\n",
    "for val in dados['age']:\n",
    "    if val in ['[80-90)','[90-100)']:\n",
    "        acima_80.append('[80-100)')\n",
    "    else:\n",
    "        acima_80.append(val)\n",
    "\n",
    "dados['age'] = pd.Series(acima_80, index=dados.index)"
   ]
  },
  {
   "cell_type": "code",
   "execution_count": 30,
   "id": "14e47385",
   "metadata": {},
   "outputs": [
    {
     "data": {
      "text/plain": [
       "dtype('O')"
      ]
     },
     "execution_count": 30,
     "metadata": {},
     "output_type": "execute_result"
    }
   ],
   "source": [
    "# Tipo ds variável\n",
    "dados.age.dtype"
   ]
  },
  {
   "cell_type": "code",
   "execution_count": 31,
   "id": "3ccd2579",
   "metadata": {},
   "outputs": [
    {
     "data": {
      "text/plain": [
       "Text(0, 0.5, 'Count')"
      ]
     },
     "execution_count": 31,
     "metadata": {},
     "output_type": "execute_result"
    },
    {
     "data": {
      "image/png": "[encoded data removed]",
      "text/plain": [
       "<Figure size 432x288 with 1 Axes>"
      ]
     },
     "metadata": {
      "needs_background": "light"
     },
     "output_type": "display_data"
    }
   ],
   "source": [
    "# Vamos verificar a variável que representa a faixa etária dos pacientes\n",
    "dados.groupby('age').size().plot(kind = 'bar')\n",
    "plt.ylabel('Count')"
   ]
  },
  {
   "cell_type": "markdown",
   "id": "30303a20",
   "metadata": {},
   "source": [
    "### **Recategorização de Variáveis tipo ID**"
   ]
  },
  {
   "cell_type": "markdown",
   "id": "9c83b3e6",
   "metadata": {},
   "source": [
    "Uma análise mais detalhada do arquivo IDs_mapping.csv revelará que 'admission_type_id', 'harge_disposition_id' e 'admission_source_id' têm valores com significado semelhante. Eles podem ser mesclados para ter menos valores."
   ]
  },
  {
   "cell_type": "markdown",
   "id": "badbf471",
   "metadata": {},
   "source": [
    "**Variável: admission_type_id**\n",
    "\n",
    "Identificador inteiro correspondente a 8 valores distintos, por exemplo, \"emergência, urgência, eletiva, recém-nascido e não disponível\""
   ]
  },
  {
   "cell_type": "code",
   "execution_count": 32,
   "id": "dc48df7f",
   "metadata": {},
   "outputs": [
    {
     "data": {
      "text/plain": [
       "array([1, 2, 3, 6, 4, 5, 8, 7], dtype=int64)"
      ]
     },
     "execution_count": 32,
     "metadata": {},
     "output_type": "execute_result"
    }
   ],
   "source": [
    "dados.admission_type_id.unique()"
   ]
  },
  {
   "cell_type": "code",
   "execution_count": 33,
   "id": "b54e8b17",
   "metadata": {},
   "outputs": [
    {
     "data": {
      "text/plain": [
       "8"
      ]
     },
     "execution_count": 33,
     "metadata": {},
     "output_type": "execute_result"
    }
   ],
   "source": [
    "dados.admission_type_id.nunique()"
   ]
  },
  {
   "cell_type": "code",
   "execution_count": 34,
   "id": "66230d8f",
   "metadata": {},
   "outputs": [],
   "source": [
    "# A variável 'admission_type_id' contém 8 níveis\n",
    "# Reduziremos os níveis de 'admission_type_id' para duas categorias\n",
    "\n",
    "tipo_id = []\n",
    "for val in dados['admission_type_id']:\n",
    "    if val == 1:\n",
    "        tipo_id.append('Emergencia')\n",
    "    else:\n",
    "        tipo_id.append('Outro')\n",
    "dados['admission_type_id'] = pd.Series(tipo_id, index= dados.index)"
   ]
  },
  {
   "cell_type": "code",
   "execution_count": 35,
   "id": "91241fbc",
   "metadata": {},
   "outputs": [
    {
     "data": {
      "text/plain": [
       "array(['Emergencia', 'Outro'], dtype=object)"
      ]
     },
     "execution_count": 35,
     "metadata": {},
     "output_type": "execute_result"
    }
   ],
   "source": [
    "dados['admission_type_id'].unique()"
   ]
  },
  {
   "cell_type": "markdown",
   "id": "8331879d",
   "metadata": {},
   "source": [
    "Variável: **discharge_disposition_id**"
   ]
  },
  {
   "cell_type": "markdown",
   "id": "cf26ab96",
   "metadata": {},
   "source": [
    "identificador inteiro correspondente a 29 valores distintos, por exemplo, \"enviado para casa, expirou e não está disponível\"."
   ]
  },
  {
   "cell_type": "code",
   "execution_count": 36,
   "id": "d9bc5a7a",
   "metadata": {},
   "outputs": [
    {
     "data": {
      "text/plain": [
       "array([ 1,  3,  6,  2,  5, 11,  7, 25, 10,  4, 14, 18,  8, 13, 12, 16, 17,\n",
       "       22, 23,  9, 20, 15, 24, 28, 19, 27], dtype=int64)"
      ]
     },
     "execution_count": 36,
     "metadata": {},
     "output_type": "execute_result"
    }
   ],
   "source": [
    "dados.discharge_disposition_id.unique()"
   ]
  },
  {
   "cell_type": "code",
   "execution_count": 37,
   "id": "7abfe4ad",
   "metadata": {},
   "outputs": [
    {
     "data": {
      "text/plain": [
       "26"
      ]
     },
     "execution_count": 37,
     "metadata": {},
     "output_type": "execute_result"
    }
   ],
   "source": [
    "dados.discharge_disposition_id.nunique()"
   ]
  },
  {
   "cell_type": "code",
   "execution_count": 38,
   "id": "4ae68d75",
   "metadata": {},
   "outputs": [],
   "source": [
    "# A variável 'discharge_disposition_id' contém 26 níveis\n",
    "# Reduziremos os níveis de 'discharge_disposition_id' para duas categorias\n",
    "\n",
    "status_id = []\n",
    "for val in dados['discharge_disposition_id']:\n",
    "    if val == 1:\n",
    "        status_id.append('Casa')\n",
    "    else:\n",
    "        status_id.append('Outro')\n",
    "        \n",
    "dados['discharge_disposition_id'] = pd.Series(status_id, index = dados.index)\n"
   ]
  },
  {
   "cell_type": "code",
   "execution_count": 39,
   "id": "1b14b0f3",
   "metadata": {},
   "outputs": [
    {
     "data": {
      "text/plain": [
       "Casa     57609\n",
       "Outro    40443\n",
       "Name: discharge_disposition_id, dtype: int64"
      ]
     },
     "execution_count": 39,
     "metadata": {},
     "output_type": "execute_result"
    }
   ],
   "source": [
    "dados.discharge_disposition_id.value_counts()"
   ]
  },
  {
   "cell_type": "markdown",
   "id": "b091095c",
   "metadata": {},
   "source": [
    "Variável: **admission_source_id**"
   ]
  },
  {
   "cell_type": "markdown",
   "id": "d69d3d74",
   "metadata": {},
   "source": [
    "Identificador inteiro correspondente a 17 valores distintos, por exemplo, \"encaminhamento médico, e transferência de um hospital\"."
   ]
  },
  {
   "cell_type": "code",
   "execution_count": 40,
   "id": "1b5bc167",
   "metadata": {},
   "outputs": [
    {
     "data": {
      "text/plain": [
       "array([ 7,  2,  4,  1,  5,  6, 20,  3, 17,  8,  9, 14, 10, 22, 11, 25, 13],\n",
       "      dtype=int64)"
      ]
     },
     "execution_count": 40,
     "metadata": {},
     "output_type": "execute_result"
    }
   ],
   "source": [
    "dados.admission_source_id.unique()"
   ]
  },
  {
   "cell_type": "code",
   "execution_count": 41,
   "id": "b42a0d80",
   "metadata": {},
   "outputs": [
    {
     "data": {
      "text/plain": [
       "17"
      ]
     },
     "execution_count": 41,
     "metadata": {},
     "output_type": "execute_result"
    }
   ],
   "source": [
    "dados.admission_source_id.nunique()"
   ]
  },
  {
   "cell_type": "code",
   "execution_count": 42,
   "id": "b2834153",
   "metadata": {},
   "outputs": [],
   "source": [
    "# A variável 'admission_source_id' contém 17 níveis, reduzirei os níveis de 'admission_source_id' para três categorias\n",
    "\n",
    "caminho_id = []\n",
    "for val in dados['admission_source_id']:\n",
    "    if val == 7:\n",
    "        caminho_id.append('Sala_Emergencia')\n",
    "    elif val == 1:\n",
    "        caminho_id.append('Recomendacao')\n",
    "    else:\n",
    "        caminho_id.append('Outro')\n",
    "dados['admission_source_id'] = pd.Series(caminho_id, index = dados.index)"
   ]
  },
  {
   "cell_type": "code",
   "execution_count": 43,
   "id": "f1c7c914",
   "metadata": {},
   "outputs": [
    {
     "data": {
      "text/plain": [
       "array(['Sala_Emergencia', 'Outro', 'Recomendacao'], dtype=object)"
      ]
     },
     "execution_count": 43,
     "metadata": {},
     "output_type": "execute_result"
    }
   ],
   "source": [
    "dados['admission_source_id'].unique()"
   ]
  },
  {
   "cell_type": "code",
   "execution_count": 44,
   "id": "97582636",
   "metadata": {},
   "outputs": [
    {
     "data": {
      "text/plain": [
       "Sala_Emergencia    55951\n",
       "Recomendacao       28355\n",
       "Outro              13746\n",
       "Name: admission_source_id, dtype: int64"
      ]
     },
     "execution_count": 44,
     "metadata": {},
     "output_type": "execute_result"
    }
   ],
   "source": [
    "dados['admission_source_id'].value_counts()"
   ]
  },
  {
   "cell_type": "markdown",
   "id": "d59cf277",
   "metadata": {},
   "source": [
    "Variáveis **'diag_1', 'diag_2' e 'diag_3'**\n",
    "\n",
    "O conjunto de dados contém até três diagnósticos para um determinado paciente (primário, secundário e adicional). \n",
    "\n",
    "\n",
    "No entanto, cada um deles tem códigos ICD-9 exclusivos e é extremamente difícil incluí-los no modelo e interpretar de forma significativa. \n",
    "\n",
    "\n",
    "Portanto, reduziremos esses códigos de diagnóstico para 4 categorias.\n",
    "\n",
    "Códigos ICD-9 (International Classification of Diseases ou Código Internacional de Doenças):"
   ]
  },
  {
   "cell_type": "code",
   "execution_count": 45,
   "id": "b89aeae5",
   "metadata": {},
   "outputs": [],
   "source": [
    "# Concatena 3 variáveis em um dataframe\n",
    "diagnostico = dados[['diag_1', 'diag_2', 'diag_3']]"
   ]
  },
  {
   "cell_type": "code",
   "execution_count": 46,
   "id": "6636c1a0",
   "metadata": {},
   "outputs": [
    {
     "data": {
      "text/html": [
       "<div>\n",
       "<style scoped>\n",
       "    .dataframe tbody tr th:only-of-type {\n",
       "        vertical-align: middle;\n",
       "    }\n",
       "\n",
       "    .dataframe tbody tr th {\n",
       "        vertical-align: top;\n",
       "    }\n",
       "\n",
       "    .dataframe thead th {\n",
       "        text-align: right;\n",
       "    }\n",
       "</style>\n",
       "<table border=\"1\" class=\"dataframe\">\n",
       "  <thead>\n",
       "    <tr style=\"text-align: right;\">\n",
       "      <th></th>\n",
       "      <th>diag_1</th>\n",
       "      <th>diag_2</th>\n",
       "      <th>diag_3</th>\n",
       "    </tr>\n",
       "  </thead>\n",
       "  <tbody>\n",
       "    <tr>\n",
       "      <th>1</th>\n",
       "      <td>276</td>\n",
       "      <td>250.01</td>\n",
       "      <td>255</td>\n",
       "    </tr>\n",
       "    <tr>\n",
       "      <th>2</th>\n",
       "      <td>648</td>\n",
       "      <td>250</td>\n",
       "      <td>V27</td>\n",
       "    </tr>\n",
       "    <tr>\n",
       "      <th>3</th>\n",
       "      <td>8</td>\n",
       "      <td>250.43</td>\n",
       "      <td>403</td>\n",
       "    </tr>\n",
       "    <tr>\n",
       "      <th>4</th>\n",
       "      <td>197</td>\n",
       "      <td>157</td>\n",
       "      <td>250</td>\n",
       "    </tr>\n",
       "    <tr>\n",
       "      <th>5</th>\n",
       "      <td>414</td>\n",
       "      <td>411</td>\n",
       "      <td>250</td>\n",
       "    </tr>\n",
       "  </tbody>\n",
       "</table>\n",
       "</div>"
      ],
      "text/plain": [
       "  diag_1  diag_2 diag_3\n",
       "1    276  250.01    255\n",
       "2    648     250    V27\n",
       "3      8  250.43    403\n",
       "4    197     157    250\n",
       "5    414     411    250"
      ]
     },
     "execution_count": 46,
     "metadata": {},
     "output_type": "execute_result"
    }
   ],
   "source": [
    "# Vizualiza os dados\n",
    "diagnostico.head()"
   ]
  },
  {
   "cell_type": "code",
   "execution_count": 47,
   "id": "f7d4735a",
   "metadata": {},
   "outputs": [
    {
     "data": {
      "text/plain": [
       "diag_1    False\n",
       "diag_2    False\n",
       "diag_3    False\n",
       "dtype: bool"
      ]
     },
     "execution_count": 47,
     "metadata": {},
     "output_type": "execute_result"
    }
   ],
   "source": [
    "diagnostico.isnull().any()"
   ]
  },
  {
   "cell_type": "markdown",
   "id": "8534a524",
   "metadata": {},
   "source": [
    "**Calculando a Comorbidade**"
   ]
  },
  {
   "cell_type": "code",
   "execution_count": 48,
   "id": "dc85a8ec",
   "metadata": {},
   "outputs": [],
   "source": [
    "# Vamos aplicar expressões regulares para buscar por um padrão e por isso precisamos do pacote re\n",
    "import re"
   ]
  },
  {
   "cell_type": "code",
   "execution_count": 49,
   "id": "f327e8c2",
   "metadata": {},
   "outputs": [
    {
     "data": {
      "text/html": [
       "<div>\n",
       "<style scoped>\n",
       "    .dataframe tbody tr th:only-of-type {\n",
       "        vertical-align: middle;\n",
       "    }\n",
       "\n",
       "    .dataframe tbody tr th {\n",
       "        vertical-align: top;\n",
       "    }\n",
       "\n",
       "    .dataframe thead th {\n",
       "        text-align: right;\n",
       "    }\n",
       "</style>\n",
       "<table border=\"1\" class=\"dataframe\">\n",
       "  <thead>\n",
       "    <tr style=\"text-align: right;\">\n",
       "      <th></th>\n",
       "      <th>diag_1</th>\n",
       "      <th>diag_2</th>\n",
       "      <th>diag_3</th>\n",
       "    </tr>\n",
       "  </thead>\n",
       "  <tbody>\n",
       "    <tr>\n",
       "      <th>1</th>\n",
       "      <td>276</td>\n",
       "      <td>250.01</td>\n",
       "      <td>255</td>\n",
       "    </tr>\n",
       "    <tr>\n",
       "      <th>2</th>\n",
       "      <td>648</td>\n",
       "      <td>250</td>\n",
       "      <td>V27</td>\n",
       "    </tr>\n",
       "    <tr>\n",
       "      <th>3</th>\n",
       "      <td>8</td>\n",
       "      <td>250.43</td>\n",
       "      <td>403</td>\n",
       "    </tr>\n",
       "    <tr>\n",
       "      <th>4</th>\n",
       "      <td>197</td>\n",
       "      <td>157</td>\n",
       "      <td>250</td>\n",
       "    </tr>\n",
       "    <tr>\n",
       "      <th>5</th>\n",
       "      <td>414</td>\n",
       "      <td>411</td>\n",
       "      <td>250</td>\n",
       "    </tr>\n",
       "    <tr>\n",
       "      <th>6</th>\n",
       "      <td>414</td>\n",
       "      <td>411</td>\n",
       "      <td>V45</td>\n",
       "    </tr>\n",
       "    <tr>\n",
       "      <th>7</th>\n",
       "      <td>428</td>\n",
       "      <td>492</td>\n",
       "      <td>250</td>\n",
       "    </tr>\n",
       "    <tr>\n",
       "      <th>8</th>\n",
       "      <td>398</td>\n",
       "      <td>427</td>\n",
       "      <td>38</td>\n",
       "    </tr>\n",
       "    <tr>\n",
       "      <th>9</th>\n",
       "      <td>434</td>\n",
       "      <td>198</td>\n",
       "      <td>486</td>\n",
       "    </tr>\n",
       "    <tr>\n",
       "      <th>10</th>\n",
       "      <td>250.7</td>\n",
       "      <td>403</td>\n",
       "      <td>996</td>\n",
       "    </tr>\n",
       "  </tbody>\n",
       "</table>\n",
       "</div>"
      ],
      "text/plain": [
       "   diag_1  diag_2 diag_3\n",
       "1     276  250.01    255\n",
       "2     648     250    V27\n",
       "3       8  250.43    403\n",
       "4     197     157    250\n",
       "5     414     411    250\n",
       "6     414     411    V45\n",
       "7     428     492    250\n",
       "8     398     427     38\n",
       "9     434     198    486\n",
       "10  250.7     403    996"
      ]
     },
     "execution_count": 49,
     "metadata": {},
     "output_type": "execute_result"
    }
   ],
   "source": [
    "# Visualiza os dados\n",
    "diagnostico.head(10)"
   ]
  },
  {
   "cell_type": "code",
   "execution_count": 50,
   "id": "c06abff8",
   "metadata": {},
   "outputs": [],
   "source": [
    "# Função que calcula a Comorbidade\n",
    "def calcula_comorbidade(row):\n",
    "    \n",
    "    # Código 250 indica diabetes\n",
    "    codigos_doenca_diabetes = \"^[2][5][0]\"\n",
    "    \n",
    "    # Códigos 39x (x = valor entre 0 e 9)\n",
    "    # Códigos 4zx (z = valor entre 0 e 6 e x = valor entre 0 e 9)\n",
    "    # Esses códigos indicam problemas circulatórios\n",
    "    codigos_doenca_circulatorios = \"^[3][9][0-9]|^[4][0-5][0-9]\"\n",
    "    \n",
    "    # Inicializa variável de retorno\n",
    "    valor = 0\n",
    "    \n",
    "    # Valor 0 indica que:\n",
    "    # Diabetes e problemas circulatórios não foram detectados de forma simultânea no paciente\n",
    "    if(not(bool(re.match(codigos_doenca_diabetes, str(np.array(row['diag_1']))))) and\n",
    "       not(bool(re.match(codigos_doenca_diabetes, str(np.array(row['diag_2']))))) and \n",
    "       not(bool(re.match(codigos_doenca_diabetes, str(np.array(row['diag_3'])))))) and (not(\n",
    "        bool(re.match(codigos_doenca_circulatorios, str(np.array(row['diag_1']))))) and not(\n",
    "        bool(re.match(codigos_doenca_circulatorios, str(np.array(row['diag_2']))))) and not(\n",
    "        bool(re.match(codigos_doenca_circulatorios, str(np.array(row['diag_3'])))))):\n",
    "        valor = 0\n",
    "        \n",
    "    # Valor 1 indica que:\n",
    "    # Pelo menos um diagnóstico de diabetes e problemas circulatórios foram detectados de forma \n",
    "    # simultânea no paciente\n",
    "    if(bool(re.match(codigos_doenca_diabetes, str(np.array(row['diag_1'])))) or \n",
    "       bool(re.match(codigos_doenca_diabetes, str(np.array(row['diag_2'])))) or \n",
    "       bool(re.match(codigos_doenca_diabetes, str(np.array(row['diag_3']))))) and (not(\n",
    "        bool(re.match(codigos_doenca_circulatorios, str(np.array(row['diag_1']))))) and not(\n",
    "        bool(re.match(codigos_doenca_circulatorios, str(np.array(row['diag_2']))))) and not(\n",
    "        bool(re.match(codigos_doenca_circulatorios, str(np.array(row['diag_3'])))))): \n",
    "        valor = 1\n",
    "        \n",
    "    # Valor 2 indica que:\n",
    "    # Diabetes e pelo menos um diagnóstico de problemas circulatórios foram detectados de forma \n",
    "    # simultânea no paciente\n",
    "    if(not(bool(re.match(codigos_doenca_diabetes, str(np.array(row['diag_1']))))) and\n",
    "       not(bool(re.match(codigos_doenca_diabetes, str(np.array(row['diag_2']))))) and \n",
    "       not(bool(re.match(codigos_doenca_diabetes, str(np.array(row['diag_3'])))))) and (\n",
    "        bool(re.match(codigos_doenca_circulatorios, str(np.array(row['diag_1'])))) or \n",
    "        bool(re.match(codigos_doenca_circulatorios, str(np.array(row['diag_2'])))) or \n",
    "        bool(re.match(codigos_doenca_circulatorios, str(np.array(row['diag_3']))))):\n",
    "        valor = 2\n",
    "        \n",
    "    # Valor 3 indica que:\n",
    "    # Pelo menos um diagnóstico de diabetes e pelo menos um diagnóstico de problemas circulatórios \n",
    "    # foram detectados de forma simultânea no paciente\n",
    "    if(bool(re.match(codigos_doenca_diabetes, str(np.array(row['diag_1'])))) or \n",
    "       bool(re.match(codigos_doenca_diabetes, str(np.array(row['diag_2'])))) or \n",
    "       bool(re.match(codigos_doenca_diabetes, str(np.array(row['diag_3']))))) and (\n",
    "        bool(re.match(codigos_doenca_circulatorios, str(np.array(row['diag_1'])))) or \n",
    "        bool(re.match(codigos_doenca_circulatorios, str(np.array(row['diag_2'])))) or \n",
    "        bool(re.match(codigos_doenca_circulatorios, str(np.array(row['diag_3']))))):\n",
    "        valor = 3 \n",
    "    \n",
    "    return valor"
   ]
  },
  {
   "cell_type": "code",
   "execution_count": 51,
   "id": "4e3fb615",
   "metadata": {},
   "outputs": [],
   "source": [
    "dados['comorbidade'] = diagnostico.apply(calcula_comorbidade, axis = 1)"
   ]
  },
  {
   "cell_type": "code",
   "execution_count": 52,
   "id": "7317c825",
   "metadata": {},
   "outputs": [
    {
     "data": {
      "text/plain": [
       "(98052, 45)"
      ]
     },
     "execution_count": 52,
     "metadata": {},
     "output_type": "execute_result"
    }
   ],
   "source": [
    "# Shape\n",
    "dados.shape"
   ]
  },
  {
   "cell_type": "code",
   "execution_count": 53,
   "id": "56c1164c",
   "metadata": {},
   "outputs": [
    {
     "data": {
      "text/html": [
       "<div>\n",
       "<style scoped>\n",
       "    .dataframe tbody tr th:only-of-type {\n",
       "        vertical-align: middle;\n",
       "    }\n",
       "\n",
       "    .dataframe tbody tr th {\n",
       "        vertical-align: top;\n",
       "    }\n",
       "\n",
       "    .dataframe thead th {\n",
       "        text-align: right;\n",
       "    }\n",
       "</style>\n",
       "<table border=\"1\" class=\"dataframe\">\n",
       "  <thead>\n",
       "    <tr style=\"text-align: right;\">\n",
       "      <th></th>\n",
       "      <th>encounter_id</th>\n",
       "      <th>patient_nbr</th>\n",
       "      <th>race</th>\n",
       "      <th>gender</th>\n",
       "      <th>age</th>\n",
       "      <th>admission_type_id</th>\n",
       "      <th>discharge_disposition_id</th>\n",
       "      <th>admission_source_id</th>\n",
       "      <th>time_in_hospital</th>\n",
       "      <th>num_lab_procedures</th>\n",
       "      <th>...</th>\n",
       "      <th>tolazamide</th>\n",
       "      <th>insulin</th>\n",
       "      <th>glyburide-metformin</th>\n",
       "      <th>glipizide-metformin</th>\n",
       "      <th>glimepiride-pioglitazone</th>\n",
       "      <th>metformin-pioglitazone</th>\n",
       "      <th>change</th>\n",
       "      <th>diabetesMed</th>\n",
       "      <th>readmitted</th>\n",
       "      <th>comorbidade</th>\n",
       "    </tr>\n",
       "  </thead>\n",
       "  <tbody>\n",
       "    <tr>\n",
       "      <th>1</th>\n",
       "      <td>149190</td>\n",
       "      <td>55629189</td>\n",
       "      <td>Caucasian</td>\n",
       "      <td>Female</td>\n",
       "      <td>[0-50)</td>\n",
       "      <td>Emergencia</td>\n",
       "      <td>Casa</td>\n",
       "      <td>Sala_Emergencia</td>\n",
       "      <td>3</td>\n",
       "      <td>59</td>\n",
       "      <td>...</td>\n",
       "      <td>No</td>\n",
       "      <td>Up</td>\n",
       "      <td>No</td>\n",
       "      <td>No</td>\n",
       "      <td>No</td>\n",
       "      <td>No</td>\n",
       "      <td>Ch</td>\n",
       "      <td>Yes</td>\n",
       "      <td>1</td>\n",
       "      <td>1</td>\n",
       "    </tr>\n",
       "    <tr>\n",
       "      <th>2</th>\n",
       "      <td>64410</td>\n",
       "      <td>86047875</td>\n",
       "      <td>AfricanAmerican</td>\n",
       "      <td>Female</td>\n",
       "      <td>[0-50)</td>\n",
       "      <td>Emergencia</td>\n",
       "      <td>Casa</td>\n",
       "      <td>Sala_Emergencia</td>\n",
       "      <td>2</td>\n",
       "      <td>11</td>\n",
       "      <td>...</td>\n",
       "      <td>No</td>\n",
       "      <td>No</td>\n",
       "      <td>No</td>\n",
       "      <td>No</td>\n",
       "      <td>No</td>\n",
       "      <td>No</td>\n",
       "      <td>No</td>\n",
       "      <td>Yes</td>\n",
       "      <td>0</td>\n",
       "      <td>1</td>\n",
       "    </tr>\n",
       "    <tr>\n",
       "      <th>3</th>\n",
       "      <td>500364</td>\n",
       "      <td>82442376</td>\n",
       "      <td>Caucasian</td>\n",
       "      <td>Male</td>\n",
       "      <td>[0-50)</td>\n",
       "      <td>Emergencia</td>\n",
       "      <td>Casa</td>\n",
       "      <td>Sala_Emergencia</td>\n",
       "      <td>2</td>\n",
       "      <td>44</td>\n",
       "      <td>...</td>\n",
       "      <td>No</td>\n",
       "      <td>Up</td>\n",
       "      <td>No</td>\n",
       "      <td>No</td>\n",
       "      <td>No</td>\n",
       "      <td>No</td>\n",
       "      <td>Ch</td>\n",
       "      <td>Yes</td>\n",
       "      <td>0</td>\n",
       "      <td>3</td>\n",
       "    </tr>\n",
       "    <tr>\n",
       "      <th>4</th>\n",
       "      <td>16680</td>\n",
       "      <td>42519267</td>\n",
       "      <td>Caucasian</td>\n",
       "      <td>Male</td>\n",
       "      <td>[0-50)</td>\n",
       "      <td>Emergencia</td>\n",
       "      <td>Casa</td>\n",
       "      <td>Sala_Emergencia</td>\n",
       "      <td>1</td>\n",
       "      <td>51</td>\n",
       "      <td>...</td>\n",
       "      <td>No</td>\n",
       "      <td>Steady</td>\n",
       "      <td>No</td>\n",
       "      <td>No</td>\n",
       "      <td>No</td>\n",
       "      <td>No</td>\n",
       "      <td>Ch</td>\n",
       "      <td>Yes</td>\n",
       "      <td>0</td>\n",
       "      <td>1</td>\n",
       "    </tr>\n",
       "    <tr>\n",
       "      <th>5</th>\n",
       "      <td>35754</td>\n",
       "      <td>82637451</td>\n",
       "      <td>Caucasian</td>\n",
       "      <td>Male</td>\n",
       "      <td>[50-60)</td>\n",
       "      <td>Outro</td>\n",
       "      <td>Casa</td>\n",
       "      <td>Outro</td>\n",
       "      <td>3</td>\n",
       "      <td>31</td>\n",
       "      <td>...</td>\n",
       "      <td>No</td>\n",
       "      <td>Steady</td>\n",
       "      <td>No</td>\n",
       "      <td>No</td>\n",
       "      <td>No</td>\n",
       "      <td>No</td>\n",
       "      <td>No</td>\n",
       "      <td>Yes</td>\n",
       "      <td>1</td>\n",
       "      <td>3</td>\n",
       "    </tr>\n",
       "  </tbody>\n",
       "</table>\n",
       "<p>5 rows × 45 columns</p>\n",
       "</div>"
      ],
      "text/plain": [
       "   encounter_id  patient_nbr             race  gender      age  \\\n",
       "1        149190     55629189        Caucasian  Female   [0-50)   \n",
       "2         64410     86047875  AfricanAmerican  Female   [0-50)   \n",
       "3        500364     82442376        Caucasian    Male   [0-50)   \n",
       "4         16680     42519267        Caucasian    Male   [0-50)   \n",
       "5         35754     82637451        Caucasian    Male  [50-60)   \n",
       "\n",
       "  admission_type_id discharge_disposition_id admission_source_id  \\\n",
       "1        Emergencia                     Casa     Sala_Emergencia   \n",
       "2        Emergencia                     Casa     Sala_Emergencia   \n",
       "3        Emergencia                     Casa     Sala_Emergencia   \n",
       "4        Emergencia                     Casa     Sala_Emergencia   \n",
       "5             Outro                     Casa               Outro   \n",
       "\n",
       "   time_in_hospital  num_lab_procedures  ...  tolazamide  insulin  \\\n",
       "1                 3                  59  ...          No       Up   \n",
       "2                 2                  11  ...          No       No   \n",
       "3                 2                  44  ...          No       Up   \n",
       "4                 1                  51  ...          No   Steady   \n",
       "5                 3                  31  ...          No   Steady   \n",
       "\n",
       "   glyburide-metformin  glipizide-metformin  glimepiride-pioglitazone  \\\n",
       "1                   No                   No                        No   \n",
       "2                   No                   No                        No   \n",
       "3                   No                   No                        No   \n",
       "4                   No                   No                        No   \n",
       "5                   No                   No                        No   \n",
       "\n",
       "  metformin-pioglitazone change diabetesMed  readmitted comorbidade  \n",
       "1                     No     Ch         Yes           1           1  \n",
       "2                     No     No         Yes           0           1  \n",
       "3                     No     Ch         Yes           0           3  \n",
       "4                     No     Ch         Yes           0           1  \n",
       "5                     No     No         Yes           1           3  \n",
       "\n",
       "[5 rows x 45 columns]"
      ]
     },
     "execution_count": 53,
     "metadata": {},
     "output_type": "execute_result"
    }
   ],
   "source": [
    "# Visualiza os dados\n",
    "dados.head()"
   ]
  },
  {
   "cell_type": "code",
   "execution_count": 54,
   "id": "52a0e9cc",
   "metadata": {},
   "outputs": [
    {
     "data": {
      "text/plain": [
       "array([1, 3, 2, 0], dtype=int64)"
      ]
     },
     "execution_count": 54,
     "metadata": {},
     "output_type": "execute_result"
    }
   ],
   "source": [
    "# Valores únicos\n",
    "dados['comorbidade'].unique()"
   ]
  },
  {
   "cell_type": "code",
   "execution_count": 55,
   "id": "eb35b6eb",
   "metadata": {},
   "outputs": [
    {
     "data": {
      "text/plain": [
       "2    39551\n",
       "0    22645\n",
       "1    18192\n",
       "3    17664\n",
       "Name: comorbidade, dtype: int64"
      ]
     },
     "execution_count": 55,
     "metadata": {},
     "output_type": "execute_result"
    }
   ],
   "source": [
    "# Valores únicos contagem\n",
    "dados['comorbidade'].value_counts()"
   ]
  },
  {
   "cell_type": "code",
   "execution_count": 56,
   "id": "b38e0feb",
   "metadata": {},
   "outputs": [
    {
     "data": {
      "text/html": [
       "<div>\n",
       "<style scoped>\n",
       "    .dataframe tbody tr th:only-of-type {\n",
       "        vertical-align: middle;\n",
       "    }\n",
       "\n",
       "    .dataframe tbody tr th {\n",
       "        vertical-align: top;\n",
       "    }\n",
       "\n",
       "    .dataframe thead th {\n",
       "        text-align: right;\n",
       "    }\n",
       "</style>\n",
       "<table border=\"1\" class=\"dataframe\">\n",
       "  <thead>\n",
       "    <tr style=\"text-align: right;\">\n",
       "      <th>readmitted</th>\n",
       "      <th>0</th>\n",
       "      <th>1</th>\n",
       "    </tr>\n",
       "    <tr>\n",
       "      <th>comorbidade</th>\n",
       "      <th></th>\n",
       "      <th></th>\n",
       "    </tr>\n",
       "  </thead>\n",
       "  <tbody>\n",
       "    <tr>\n",
       "      <th>0</th>\n",
       "      <td>55.526606</td>\n",
       "      <td>44.473394</td>\n",
       "    </tr>\n",
       "    <tr>\n",
       "      <th>1</th>\n",
       "      <td>53.875330</td>\n",
       "      <td>46.124670</td>\n",
       "    </tr>\n",
       "    <tr>\n",
       "      <th>2</th>\n",
       "      <td>51.748376</td>\n",
       "      <td>48.251624</td>\n",
       "    </tr>\n",
       "    <tr>\n",
       "      <th>3</th>\n",
       "      <td>53.753397</td>\n",
       "      <td>46.246603</td>\n",
       "    </tr>\n",
       "  </tbody>\n",
       "</table>\n",
       "</div>"
      ],
      "text/plain": [
       "readmitted           0          1\n",
       "comorbidade                      \n",
       "0            55.526606  44.473394\n",
       "1            53.875330  46.124670\n",
       "2            51.748376  48.251624\n",
       "3            53.753397  46.246603"
      ]
     },
     "execution_count": 56,
     "metadata": {},
     "output_type": "execute_result"
    }
   ],
   "source": [
    "# Calcula o percentual de comorbidade por tipo e por classe da variável alvo\n",
    "percent_com = pd.crosstab(dados.comorbidade , dados.readmitted , normalize = 'index') * 100\n",
    "percent_com"
   ]
  },
  {
   "cell_type": "code",
   "execution_count": 57,
   "id": "cdb2402c",
   "metadata": {},
   "outputs": [
    {
     "data": {
      "image/png": "[encoded data removed]",
      "text/plain": [
       "<Figure size 1152x576 with 1 Axes>"
      ]
     },
     "metadata": {
      "needs_background": "light"
     },
     "output_type": "display_data"
    }
   ],
   "source": [
    "# Plot\n",
    "\n",
    "# Prepara a figura a partir dos dados\n",
    "fig = percent_com.plot(kind = 'bar', \n",
    "                       figsize = (16, 8), \n",
    "                       width = 0.5, \n",
    "                       edgecolor = 'g', \n",
    "                       color = ['b','r'])\n",
    "\n",
    "# Desenha cada grupo\n",
    "for i in fig .patches:\n",
    "    fig.text(i.get_x() + 0.00, \n",
    "             i.get_height() + 0.3, \n",
    "             str(round((i.get_height()), 2)), \n",
    "             fontsize = 15, \n",
    "             color = 'black',\n",
    "             rotation = 0)\n",
    "\n",
    "# Título e Print\n",
    "plt.title(\"Comorbidade vs Readmissões\", fontsize = 15)\n",
    "plt.show()"
   ]
  },
  {
   "cell_type": "code",
   "execution_count": 58,
   "id": "4dd0e23a",
   "metadata": {},
   "outputs": [],
   "source": [
    "# Legenda do gráfico:\n",
    "\n",
    "# Valor 0 indica que:\n",
    "# Diabetes e problemas circulatórios não foram detectados de forma simultânea no paciente\n",
    "\n",
    "# Valor 1 indica que:\n",
    "# Pelo menos um diagnóstico de diabetes E problemas circulatórios foram detectados de forma simultânea no paciente\n",
    "\n",
    "# Valor 2 indica que:\n",
    "# Diabetes e pelo menos um diagnóstico de problemas circulatórios foram detectados de forma simultânea no paciente\n",
    "\n",
    "# Valor 3 indica que:\n",
    "# Pelo menos um diagnóstico de diabetes e pelo menos um dianóstico de problemas circulatórios foram detectados de \n",
    "# forma simultânea no paciente"
   ]
  },
  {
   "cell_type": "markdown",
   "id": "d693697f",
   "metadata": {},
   "source": [
    "### Variáveis de Dosagem de Medicamentos e Agrupamento de Variáveis"
   ]
  },
  {
   "cell_type": "code",
   "execution_count": 59,
   "id": "520b63a9",
   "metadata": {},
   "outputs": [
    {
     "data": {
      "text/html": [
       "<div>\n",
       "<style scoped>\n",
       "    .dataframe tbody tr th:only-of-type {\n",
       "        vertical-align: middle;\n",
       "    }\n",
       "\n",
       "    .dataframe tbody tr th {\n",
       "        vertical-align: top;\n",
       "    }\n",
       "\n",
       "    .dataframe thead th {\n",
       "        text-align: right;\n",
       "    }\n",
       "</style>\n",
       "<table border=\"1\" class=\"dataframe\">\n",
       "  <thead>\n",
       "    <tr style=\"text-align: right;\">\n",
       "      <th></th>\n",
       "      <th>encounter_id</th>\n",
       "      <th>patient_nbr</th>\n",
       "      <th>race</th>\n",
       "      <th>gender</th>\n",
       "      <th>age</th>\n",
       "      <th>admission_type_id</th>\n",
       "      <th>discharge_disposition_id</th>\n",
       "      <th>admission_source_id</th>\n",
       "      <th>time_in_hospital</th>\n",
       "      <th>num_lab_procedures</th>\n",
       "      <th>...</th>\n",
       "      <th>tolazamide</th>\n",
       "      <th>insulin</th>\n",
       "      <th>glyburide-metformin</th>\n",
       "      <th>glipizide-metformin</th>\n",
       "      <th>glimepiride-pioglitazone</th>\n",
       "      <th>metformin-pioglitazone</th>\n",
       "      <th>change</th>\n",
       "      <th>diabetesMed</th>\n",
       "      <th>readmitted</th>\n",
       "      <th>comorbidade</th>\n",
       "    </tr>\n",
       "  </thead>\n",
       "  <tbody>\n",
       "    <tr>\n",
       "      <th>1</th>\n",
       "      <td>149190</td>\n",
       "      <td>55629189</td>\n",
       "      <td>Caucasian</td>\n",
       "      <td>Female</td>\n",
       "      <td>[0-50)</td>\n",
       "      <td>Emergencia</td>\n",
       "      <td>Casa</td>\n",
       "      <td>Sala_Emergencia</td>\n",
       "      <td>3</td>\n",
       "      <td>59</td>\n",
       "      <td>...</td>\n",
       "      <td>No</td>\n",
       "      <td>Up</td>\n",
       "      <td>No</td>\n",
       "      <td>No</td>\n",
       "      <td>No</td>\n",
       "      <td>No</td>\n",
       "      <td>Ch</td>\n",
       "      <td>Yes</td>\n",
       "      <td>1</td>\n",
       "      <td>1</td>\n",
       "    </tr>\n",
       "    <tr>\n",
       "      <th>2</th>\n",
       "      <td>64410</td>\n",
       "      <td>86047875</td>\n",
       "      <td>AfricanAmerican</td>\n",
       "      <td>Female</td>\n",
       "      <td>[0-50)</td>\n",
       "      <td>Emergencia</td>\n",
       "      <td>Casa</td>\n",
       "      <td>Sala_Emergencia</td>\n",
       "      <td>2</td>\n",
       "      <td>11</td>\n",
       "      <td>...</td>\n",
       "      <td>No</td>\n",
       "      <td>No</td>\n",
       "      <td>No</td>\n",
       "      <td>No</td>\n",
       "      <td>No</td>\n",
       "      <td>No</td>\n",
       "      <td>No</td>\n",
       "      <td>Yes</td>\n",
       "      <td>0</td>\n",
       "      <td>1</td>\n",
       "    </tr>\n",
       "    <tr>\n",
       "      <th>3</th>\n",
       "      <td>500364</td>\n",
       "      <td>82442376</td>\n",
       "      <td>Caucasian</td>\n",
       "      <td>Male</td>\n",
       "      <td>[0-50)</td>\n",
       "      <td>Emergencia</td>\n",
       "      <td>Casa</td>\n",
       "      <td>Sala_Emergencia</td>\n",
       "      <td>2</td>\n",
       "      <td>44</td>\n",
       "      <td>...</td>\n",
       "      <td>No</td>\n",
       "      <td>Up</td>\n",
       "      <td>No</td>\n",
       "      <td>No</td>\n",
       "      <td>No</td>\n",
       "      <td>No</td>\n",
       "      <td>Ch</td>\n",
       "      <td>Yes</td>\n",
       "      <td>0</td>\n",
       "      <td>3</td>\n",
       "    </tr>\n",
       "    <tr>\n",
       "      <th>4</th>\n",
       "      <td>16680</td>\n",
       "      <td>42519267</td>\n",
       "      <td>Caucasian</td>\n",
       "      <td>Male</td>\n",
       "      <td>[0-50)</td>\n",
       "      <td>Emergencia</td>\n",
       "      <td>Casa</td>\n",
       "      <td>Sala_Emergencia</td>\n",
       "      <td>1</td>\n",
       "      <td>51</td>\n",
       "      <td>...</td>\n",
       "      <td>No</td>\n",
       "      <td>Steady</td>\n",
       "      <td>No</td>\n",
       "      <td>No</td>\n",
       "      <td>No</td>\n",
       "      <td>No</td>\n",
       "      <td>Ch</td>\n",
       "      <td>Yes</td>\n",
       "      <td>0</td>\n",
       "      <td>1</td>\n",
       "    </tr>\n",
       "    <tr>\n",
       "      <th>5</th>\n",
       "      <td>35754</td>\n",
       "      <td>82637451</td>\n",
       "      <td>Caucasian</td>\n",
       "      <td>Male</td>\n",
       "      <td>[50-60)</td>\n",
       "      <td>Outro</td>\n",
       "      <td>Casa</td>\n",
       "      <td>Outro</td>\n",
       "      <td>3</td>\n",
       "      <td>31</td>\n",
       "      <td>...</td>\n",
       "      <td>No</td>\n",
       "      <td>Steady</td>\n",
       "      <td>No</td>\n",
       "      <td>No</td>\n",
       "      <td>No</td>\n",
       "      <td>No</td>\n",
       "      <td>No</td>\n",
       "      <td>Yes</td>\n",
       "      <td>1</td>\n",
       "      <td>3</td>\n",
       "    </tr>\n",
       "  </tbody>\n",
       "</table>\n",
       "<p>5 rows × 45 columns</p>\n",
       "</div>"
      ],
      "text/plain": [
       "   encounter_id  patient_nbr             race  gender      age  \\\n",
       "1        149190     55629189        Caucasian  Female   [0-50)   \n",
       "2         64410     86047875  AfricanAmerican  Female   [0-50)   \n",
       "3        500364     82442376        Caucasian    Male   [0-50)   \n",
       "4         16680     42519267        Caucasian    Male   [0-50)   \n",
       "5         35754     82637451        Caucasian    Male  [50-60)   \n",
       "\n",
       "  admission_type_id discharge_disposition_id admission_source_id  \\\n",
       "1        Emergencia                     Casa     Sala_Emergencia   \n",
       "2        Emergencia                     Casa     Sala_Emergencia   \n",
       "3        Emergencia                     Casa     Sala_Emergencia   \n",
       "4        Emergencia                     Casa     Sala_Emergencia   \n",
       "5             Outro                     Casa               Outro   \n",
       "\n",
       "   time_in_hospital  num_lab_procedures  ...  tolazamide  insulin  \\\n",
       "1                 3                  59  ...          No       Up   \n",
       "2                 2                  11  ...          No       No   \n",
       "3                 2                  44  ...          No       Up   \n",
       "4                 1                  51  ...          No   Steady   \n",
       "5                 3                  31  ...          No   Steady   \n",
       "\n",
       "   glyburide-metformin  glipizide-metformin  glimepiride-pioglitazone  \\\n",
       "1                   No                   No                        No   \n",
       "2                   No                   No                        No   \n",
       "3                   No                   No                        No   \n",
       "4                   No                   No                        No   \n",
       "5                   No                   No                        No   \n",
       "\n",
       "  metformin-pioglitazone change diabetesMed  readmitted comorbidade  \n",
       "1                     No     Ch         Yes           1           1  \n",
       "2                     No     No         Yes           0           1  \n",
       "3                     No     Ch         Yes           0           3  \n",
       "4                     No     Ch         Yes           0           1  \n",
       "5                     No     No         Yes           1           3  \n",
       "\n",
       "[5 rows x 45 columns]"
      ]
     },
     "execution_count": 59,
     "metadata": {},
     "output_type": "execute_result"
    }
   ],
   "source": [
    "dados.head()"
   ]
  },
  {
   "cell_type": "markdown",
   "id": "f9ac91a3",
   "metadata": {},
   "source": [
    "O conjunto de dados contém 23 recursos para 23 medicamentos que indicam, para cada um deles, se uma alteração no medicamento foi feita ou não durante a atual internação do paciente."
   ]
  },
  {
   "cell_type": "markdown",
   "id": "aa38fa5b",
   "metadata": {},
   "source": [
    "Vamos plotar algumas variáveis que indicam uso de medicamento."
   ]
  },
  {
   "cell_type": "code",
   "execution_count": 60,
   "id": "ecc33cd3",
   "metadata": {},
   "outputs": [
    {
     "data": {
      "text/plain": [
       "Text(0, 0.5, 'Count')"
      ]
     },
     "execution_count": 60,
     "metadata": {},
     "output_type": "execute_result"
    },
    {
     "data": {
      "image/png": "[encoded data removed]",
      "text/plain": [
       "<Figure size 1440x1080 with 4 Axes>"
      ]
     },
     "metadata": {
      "needs_background": "light"
     },
     "output_type": "display_data"
    }
   ],
   "source": [
    "# Plot\n",
    "fig = plt.figure(figsize = (20,15))\n",
    "\n",
    "ax1 = fig.add_subplot(221)\n",
    "ax1 = dados.groupby('miglitol').size().plot(kind = 'bar')\n",
    "plt.xlabel('miglitol', fontsize = 15)\n",
    "plt.ylabel('Count', fontsize = 15)\n",
    "\n",
    "ax2 = fig.add_subplot(222)\n",
    "ax2 = dados.groupby('nateglinide').size().plot(kind = 'bar')\n",
    "plt.xlabel('nateglinide', fontsize = 15)\n",
    "plt.ylabel('Count', fontsize = 15)\n",
    "\n",
    "ax3 = fig.add_subplot(223)\n",
    "ax3 = dados.groupby('acarbose').size().plot(kind = 'bar')\n",
    "plt.xlabel('acarbose', fontsize = 15)\n",
    "plt.ylabel('Count', fontsize = 15)\n",
    "\n",
    "ax4 = fig.add_subplot(224)\n",
    "ax4 = dados.groupby('insulin').size().plot(kind = 'bar')\n",
    "plt.xlabel('insulin', fontsize = 15)\n",
    "plt.ylabel('Count', fontsize = 15)"
   ]
  },
  {
   "cell_type": "markdown",
   "id": "431f7378",
   "metadata": {},
   "source": [
    "Podemos contar quantas alterações foram feitas no total para cada paciente e criamos um novo atributo. Isso pode ajudar a descobrir uma relação com o número de alterações, independentemente de qual medicamento foi alterado.\n",
    "\n",
    "Além disso, podemos criar um novo atributo indicando o total de medicamentos que cada paciente consumiu durante a internação. E então avaliamos se há relação do total com a readmissão."
   ]
  },
  {
   "cell_type": "code",
   "execution_count": 61,
   "id": "ac52fdbf",
   "metadata": {},
   "outputs": [
    {
     "data": {
      "text/plain": [
       "(98052, 45)"
      ]
     },
     "execution_count": 61,
     "metadata": {},
     "output_type": "execute_result"
    }
   ],
   "source": [
    "dados.shape"
   ]
  },
  {
   "cell_type": "code",
   "execution_count": 62,
   "id": "3a899263",
   "metadata": {},
   "outputs": [
    {
     "data": {
      "text/plain": [
       "Index(['encounter_id', 'patient_nbr', 'race', 'gender', 'age',\n",
       "       'admission_type_id', 'discharge_disposition_id', 'admission_source_id',\n",
       "       'time_in_hospital', 'num_lab_procedures', 'num_procedures',\n",
       "       'num_medications', 'number_outpatient', 'number_emergency',\n",
       "       'number_inpatient', 'diag_1', 'diag_2', 'diag_3', 'number_diagnoses',\n",
       "       'max_glu_serum', 'A1Cresult', 'metformin', 'repaglinide', 'nateglinide',\n",
       "       'chlorpropamide', 'glimepiride', 'acetohexamide', 'glipizide',\n",
       "       'glyburide', 'tolbutamide', 'pioglitazone', 'rosiglitazone', 'acarbose',\n",
       "       'miglitol', 'troglitazone', 'tolazamide', 'insulin',\n",
       "       'glyburide-metformin', 'glipizide-metformin',\n",
       "       'glimepiride-pioglitazone', 'metformin-pioglitazone', 'change',\n",
       "       'diabetesMed', 'readmitted', 'comorbidade'],\n",
       "      dtype='object')"
      ]
     },
     "execution_count": 62,
     "metadata": {},
     "output_type": "execute_result"
    }
   ],
   "source": [
    "dados.columns"
   ]
  },
  {
   "cell_type": "code",
   "execution_count": 63,
   "id": "b65ecfe0",
   "metadata": {},
   "outputs": [],
   "source": [
    "# Lista com os nomes das variáveis de medicamentos (3 variáveis já tinham sido removidas)\n",
    "medicamentos = ['metformin', 'repaglinide', 'nateglinide', 'chlorpropamide', 'glimepiride', 'acetohexamide', \n",
    "                'glipizide', 'glyburide', 'tolbutamide', 'pioglitazone', 'rosiglitazone', 'acarbose', 'miglitol', \n",
    "                'troglitazone', 'tolazamide', 'insulin', 'glyburide-metformin', 'glipizide-metformin', \n",
    "                'glimepiride-pioglitazone', 'metformin-pioglitazone']"
   ]
  },
  {
   "cell_type": "code",
   "execution_count": 64,
   "id": "14ef7d03",
   "metadata": {},
   "outputs": [],
   "source": [
    "# Loop para ajustar o valor das variáveis e recategorizando a variável\n",
    "def apply_logic(x):\n",
    "    if x == 'No' or x == 'Steady':\n",
    "        return 0\n",
    "    else:\n",
    "        return 1\n",
    "\n",
    "for col in medicamentos:\n",
    "    if col in dados.columns:\n",
    "        colname = str(col) + 'temp'\n",
    "        dados[colname] = dados[col].apply(apply_logic)"
   ]
  },
  {
   "cell_type": "code",
   "execution_count": 65,
   "id": "63086113",
   "metadata": {},
   "outputs": [
    {
     "data": {
      "text/html": [
       "<div>\n",
       "<style scoped>\n",
       "    .dataframe tbody tr th:only-of-type {\n",
       "        vertical-align: middle;\n",
       "    }\n",
       "\n",
       "    .dataframe tbody tr th {\n",
       "        vertical-align: top;\n",
       "    }\n",
       "\n",
       "    .dataframe thead th {\n",
       "        text-align: right;\n",
       "    }\n",
       "</style>\n",
       "<table border=\"1\" class=\"dataframe\">\n",
       "  <thead>\n",
       "    <tr style=\"text-align: right;\">\n",
       "      <th></th>\n",
       "      <th>encounter_id</th>\n",
       "      <th>patient_nbr</th>\n",
       "      <th>race</th>\n",
       "      <th>gender</th>\n",
       "      <th>age</th>\n",
       "      <th>admission_type_id</th>\n",
       "      <th>discharge_disposition_id</th>\n",
       "      <th>admission_source_id</th>\n",
       "      <th>time_in_hospital</th>\n",
       "      <th>num_lab_procedures</th>\n",
       "      <th>...</th>\n",
       "      <th>rosiglitazonetemp</th>\n",
       "      <th>acarbosetemp</th>\n",
       "      <th>miglitoltemp</th>\n",
       "      <th>troglitazonetemp</th>\n",
       "      <th>tolazamidetemp</th>\n",
       "      <th>insulintemp</th>\n",
       "      <th>glyburide-metformintemp</th>\n",
       "      <th>glipizide-metformintemp</th>\n",
       "      <th>glimepiride-pioglitazonetemp</th>\n",
       "      <th>metformin-pioglitazonetemp</th>\n",
       "    </tr>\n",
       "  </thead>\n",
       "  <tbody>\n",
       "    <tr>\n",
       "      <th>1</th>\n",
       "      <td>149190</td>\n",
       "      <td>55629189</td>\n",
       "      <td>Caucasian</td>\n",
       "      <td>Female</td>\n",
       "      <td>[0-50)</td>\n",
       "      <td>Emergencia</td>\n",
       "      <td>Casa</td>\n",
       "      <td>Sala_Emergencia</td>\n",
       "      <td>3</td>\n",
       "      <td>59</td>\n",
       "      <td>...</td>\n",
       "      <td>0</td>\n",
       "      <td>0</td>\n",
       "      <td>0</td>\n",
       "      <td>0</td>\n",
       "      <td>0</td>\n",
       "      <td>1</td>\n",
       "      <td>0</td>\n",
       "      <td>0</td>\n",
       "      <td>0</td>\n",
       "      <td>0</td>\n",
       "    </tr>\n",
       "    <tr>\n",
       "      <th>2</th>\n",
       "      <td>64410</td>\n",
       "      <td>86047875</td>\n",
       "      <td>AfricanAmerican</td>\n",
       "      <td>Female</td>\n",
       "      <td>[0-50)</td>\n",
       "      <td>Emergencia</td>\n",
       "      <td>Casa</td>\n",
       "      <td>Sala_Emergencia</td>\n",
       "      <td>2</td>\n",
       "      <td>11</td>\n",
       "      <td>...</td>\n",
       "      <td>0</td>\n",
       "      <td>0</td>\n",
       "      <td>0</td>\n",
       "      <td>0</td>\n",
       "      <td>0</td>\n",
       "      <td>0</td>\n",
       "      <td>0</td>\n",
       "      <td>0</td>\n",
       "      <td>0</td>\n",
       "      <td>0</td>\n",
       "    </tr>\n",
       "    <tr>\n",
       "      <th>3</th>\n",
       "      <td>500364</td>\n",
       "      <td>82442376</td>\n",
       "      <td>Caucasian</td>\n",
       "      <td>Male</td>\n",
       "      <td>[0-50)</td>\n",
       "      <td>Emergencia</td>\n",
       "      <td>Casa</td>\n",
       "      <td>Sala_Emergencia</td>\n",
       "      <td>2</td>\n",
       "      <td>44</td>\n",
       "      <td>...</td>\n",
       "      <td>0</td>\n",
       "      <td>0</td>\n",
       "      <td>0</td>\n",
       "      <td>0</td>\n",
       "      <td>0</td>\n",
       "      <td>1</td>\n",
       "      <td>0</td>\n",
       "      <td>0</td>\n",
       "      <td>0</td>\n",
       "      <td>0</td>\n",
       "    </tr>\n",
       "    <tr>\n",
       "      <th>4</th>\n",
       "      <td>16680</td>\n",
       "      <td>42519267</td>\n",
       "      <td>Caucasian</td>\n",
       "      <td>Male</td>\n",
       "      <td>[0-50)</td>\n",
       "      <td>Emergencia</td>\n",
       "      <td>Casa</td>\n",
       "      <td>Sala_Emergencia</td>\n",
       "      <td>1</td>\n",
       "      <td>51</td>\n",
       "      <td>...</td>\n",
       "      <td>0</td>\n",
       "      <td>0</td>\n",
       "      <td>0</td>\n",
       "      <td>0</td>\n",
       "      <td>0</td>\n",
       "      <td>0</td>\n",
       "      <td>0</td>\n",
       "      <td>0</td>\n",
       "      <td>0</td>\n",
       "      <td>0</td>\n",
       "    </tr>\n",
       "    <tr>\n",
       "      <th>5</th>\n",
       "      <td>35754</td>\n",
       "      <td>82637451</td>\n",
       "      <td>Caucasian</td>\n",
       "      <td>Male</td>\n",
       "      <td>[50-60)</td>\n",
       "      <td>Outro</td>\n",
       "      <td>Casa</td>\n",
       "      <td>Outro</td>\n",
       "      <td>3</td>\n",
       "      <td>31</td>\n",
       "      <td>...</td>\n",
       "      <td>0</td>\n",
       "      <td>0</td>\n",
       "      <td>0</td>\n",
       "      <td>0</td>\n",
       "      <td>0</td>\n",
       "      <td>0</td>\n",
       "      <td>0</td>\n",
       "      <td>0</td>\n",
       "      <td>0</td>\n",
       "      <td>0</td>\n",
       "    </tr>\n",
       "  </tbody>\n",
       "</table>\n",
       "<p>5 rows × 65 columns</p>\n",
       "</div>"
      ],
      "text/plain": [
       "   encounter_id  patient_nbr             race  gender      age  \\\n",
       "1        149190     55629189        Caucasian  Female   [0-50)   \n",
       "2         64410     86047875  AfricanAmerican  Female   [0-50)   \n",
       "3        500364     82442376        Caucasian    Male   [0-50)   \n",
       "4         16680     42519267        Caucasian    Male   [0-50)   \n",
       "5         35754     82637451        Caucasian    Male  [50-60)   \n",
       "\n",
       "  admission_type_id discharge_disposition_id admission_source_id  \\\n",
       "1        Emergencia                     Casa     Sala_Emergencia   \n",
       "2        Emergencia                     Casa     Sala_Emergencia   \n",
       "3        Emergencia                     Casa     Sala_Emergencia   \n",
       "4        Emergencia                     Casa     Sala_Emergencia   \n",
       "5             Outro                     Casa               Outro   \n",
       "\n",
       "   time_in_hospital  num_lab_procedures  ...  rosiglitazonetemp  acarbosetemp  \\\n",
       "1                 3                  59  ...                  0             0   \n",
       "2                 2                  11  ...                  0             0   \n",
       "3                 2                  44  ...                  0             0   \n",
       "4                 1                  51  ...                  0             0   \n",
       "5                 3                  31  ...                  0             0   \n",
       "\n",
       "   miglitoltemp  troglitazonetemp  tolazamidetemp insulintemp  \\\n",
       "1             0                 0               0           1   \n",
       "2             0                 0               0           0   \n",
       "3             0                 0               0           1   \n",
       "4             0                 0               0           0   \n",
       "5             0                 0               0           0   \n",
       "\n",
       "  glyburide-metformintemp glipizide-metformintemp  \\\n",
       "1                       0                       0   \n",
       "2                       0                       0   \n",
       "3                       0                       0   \n",
       "4                       0                       0   \n",
       "5                       0                       0   \n",
       "\n",
       "   glimepiride-pioglitazonetemp metformin-pioglitazonetemp  \n",
       "1                             0                          0  \n",
       "2                             0                          0  \n",
       "3                             0                          0  \n",
       "4                             0                          0  \n",
       "5                             0                          0  \n",
       "\n",
       "[5 rows x 65 columns]"
      ]
     },
     "execution_count": 65,
     "metadata": {},
     "output_type": "execute_result"
    }
   ],
   "source": [
    "dados.head()"
   ]
  },
  {
   "cell_type": "code",
   "execution_count": 66,
   "id": "6f424546",
   "metadata": {},
   "outputs": [],
   "source": [
    "# Criar uma variável para receber a contagem por paciente\n",
    "dados['num_alt_dosagem_med'] = 0"
   ]
  },
  {
   "cell_type": "code",
   "execution_count": 67,
   "id": "bfca5329",
   "metadata": {},
   "outputs": [],
   "source": [
    "# Contagem das modificações da dosagem de medicamentos\n",
    "for col in medicamentos:\n",
    "    if col in dados.columns:\n",
    "        colname = str(col) + 'temp'\n",
    "        dados['num_alt_dosagem_med'] = dados['num_alt_dosagem_med'] + dados[colname]\n",
    "        del dados[colname]"
   ]
  },
  {
   "cell_type": "code",
   "execution_count": 68,
   "id": "b24c370c",
   "metadata": {},
   "outputs": [
    {
     "data": {
      "text/plain": [
       "0    71309\n",
       "1    25350\n",
       "2     1281\n",
       "3      107\n",
       "4        5\n",
       "Name: num_alt_dosagem_med, dtype: int64"
      ]
     },
     "execution_count": 68,
     "metadata": {},
     "output_type": "execute_result"
    }
   ],
   "source": [
    "# Verificando o total de modificações na dosagem de medicamentos\n",
    "dados['num_alt_dosagem_med'].value_counts()"
   ]
  },
  {
   "cell_type": "markdown",
   "id": "0a9546d7",
   "metadata": {},
   "source": [
    "Vamos alterar o valor das colunas dos medicamentos para refletir se esse medicamento está sendo administrado a um paciente ou não."
   ]
  },
  {
   "cell_type": "code",
   "execution_count": 69,
   "id": "6401c4a8",
   "metadata": {},
   "outputs": [],
   "source": [
    "# Recoding das colunas de medicamentos\n",
    "for col in medicamentos:\n",
    "    if col in dados.columns:\n",
    "        dados[col] = dados[col].replace('No', 0)\n",
    "        dados[col] = dados[col].replace('Steady', 1)\n",
    "        dados[col] = dados[col].replace('Down', 1)\n",
    "        dados[col] = dados[col].replace('Up', 1)"
   ]
  },
  {
   "cell_type": "code",
   "execution_count": 70,
   "id": "65ce9f2c",
   "metadata": {},
   "outputs": [
    {
     "data": {
      "text/plain": [
       "array([0, 1], dtype=int64)"
      ]
     },
     "execution_count": 70,
     "metadata": {},
     "output_type": "execute_result"
    }
   ],
   "source": [
    "dados[col].unique()"
   ]
  },
  {
   "cell_type": "markdown",
   "id": "50d68230",
   "metadata": {},
   "source": [
    "Agora, criamos mais uma coluna para ver quantos medicamentos estão sendo administrados a um paciente.\n"
   ]
  },
  {
   "cell_type": "code",
   "execution_count": 71,
   "id": "dbdb52e3",
   "metadata": {},
   "outputs": [],
   "source": [
    "# Variável com a contagem de medicamentos por pacientes\n",
    "dados['num_med'] = 0"
   ]
  },
  {
   "cell_type": "code",
   "execution_count": 72,
   "id": "e4313824",
   "metadata": {},
   "outputs": [],
   "source": [
    "# Carregamos a nova variável \n",
    "for col in medicamentos:\n",
    "    if col in dados.columns:\n",
    "        dados['num_med'] = dados['num_med'] + dados[col]"
   ]
  },
  {
   "cell_type": "code",
   "execution_count": 73,
   "id": "69ff1cf5",
   "metadata": {},
   "outputs": [
    {
     "data": {
      "text/plain": [
       "1    45447\n",
       "0    22702\n",
       "2    21056\n",
       "3     7485\n",
       "4     1300\n",
       "5       57\n",
       "6        5\n",
       "Name: num_med, dtype: int64"
      ]
     },
     "execution_count": 73,
     "metadata": {},
     "output_type": "execute_result"
    }
   ],
   "source": [
    "# Verificando o total de medicamentos\n",
    "dados['num_med'].value_counts()"
   ]
  },
  {
   "cell_type": "markdown",
   "id": "80e07494",
   "metadata": {},
   "source": [
    "Depois de criar essas duas colunas, podemos remover as colunas dos medicamentos."
   ]
  },
  {
   "cell_type": "code",
   "execution_count": 74,
   "id": "f4ced656",
   "metadata": {},
   "outputs": [],
   "source": [
    "# Remover coluna de medicamentos\n",
    "dados = dados.drop(columns = medicamentos)"
   ]
  },
  {
   "cell_type": "code",
   "execution_count": 75,
   "id": "6cf64a88",
   "metadata": {},
   "outputs": [
    {
     "data": {
      "text/plain": [
       "(98052, 27)"
      ]
     },
     "execution_count": 75,
     "metadata": {},
     "output_type": "execute_result"
    }
   ],
   "source": [
    "dados.shape"
   ]
  },
  {
   "cell_type": "code",
   "execution_count": 76,
   "id": "07a21273",
   "metadata": {},
   "outputs": [
    {
     "data": {
      "text/html": [
       "<div>\n",
       "<style scoped>\n",
       "    .dataframe tbody tr th:only-of-type {\n",
       "        vertical-align: middle;\n",
       "    }\n",
       "\n",
       "    .dataframe tbody tr th {\n",
       "        vertical-align: top;\n",
       "    }\n",
       "\n",
       "    .dataframe thead th {\n",
       "        text-align: right;\n",
       "    }\n",
       "</style>\n",
       "<table border=\"1\" class=\"dataframe\">\n",
       "  <thead>\n",
       "    <tr style=\"text-align: right;\">\n",
       "      <th></th>\n",
       "      <th>encounter_id</th>\n",
       "      <th>patient_nbr</th>\n",
       "      <th>race</th>\n",
       "      <th>gender</th>\n",
       "      <th>age</th>\n",
       "      <th>admission_type_id</th>\n",
       "      <th>discharge_disposition_id</th>\n",
       "      <th>admission_source_id</th>\n",
       "      <th>time_in_hospital</th>\n",
       "      <th>num_lab_procedures</th>\n",
       "      <th>...</th>\n",
       "      <th>diag_3</th>\n",
       "      <th>number_diagnoses</th>\n",
       "      <th>max_glu_serum</th>\n",
       "      <th>A1Cresult</th>\n",
       "      <th>change</th>\n",
       "      <th>diabetesMed</th>\n",
       "      <th>readmitted</th>\n",
       "      <th>comorbidade</th>\n",
       "      <th>num_alt_dosagem_med</th>\n",
       "      <th>num_med</th>\n",
       "    </tr>\n",
       "  </thead>\n",
       "  <tbody>\n",
       "    <tr>\n",
       "      <th>1</th>\n",
       "      <td>149190</td>\n",
       "      <td>55629189</td>\n",
       "      <td>Caucasian</td>\n",
       "      <td>Female</td>\n",
       "      <td>[0-50)</td>\n",
       "      <td>Emergencia</td>\n",
       "      <td>Casa</td>\n",
       "      <td>Sala_Emergencia</td>\n",
       "      <td>3</td>\n",
       "      <td>59</td>\n",
       "      <td>...</td>\n",
       "      <td>255</td>\n",
       "      <td>9</td>\n",
       "      <td>None</td>\n",
       "      <td>None</td>\n",
       "      <td>Ch</td>\n",
       "      <td>Yes</td>\n",
       "      <td>1</td>\n",
       "      <td>1</td>\n",
       "      <td>1</td>\n",
       "      <td>1</td>\n",
       "    </tr>\n",
       "    <tr>\n",
       "      <th>2</th>\n",
       "      <td>64410</td>\n",
       "      <td>86047875</td>\n",
       "      <td>AfricanAmerican</td>\n",
       "      <td>Female</td>\n",
       "      <td>[0-50)</td>\n",
       "      <td>Emergencia</td>\n",
       "      <td>Casa</td>\n",
       "      <td>Sala_Emergencia</td>\n",
       "      <td>2</td>\n",
       "      <td>11</td>\n",
       "      <td>...</td>\n",
       "      <td>V27</td>\n",
       "      <td>6</td>\n",
       "      <td>None</td>\n",
       "      <td>None</td>\n",
       "      <td>No</td>\n",
       "      <td>Yes</td>\n",
       "      <td>0</td>\n",
       "      <td>1</td>\n",
       "      <td>0</td>\n",
       "      <td>1</td>\n",
       "    </tr>\n",
       "    <tr>\n",
       "      <th>3</th>\n",
       "      <td>500364</td>\n",
       "      <td>82442376</td>\n",
       "      <td>Caucasian</td>\n",
       "      <td>Male</td>\n",
       "      <td>[0-50)</td>\n",
       "      <td>Emergencia</td>\n",
       "      <td>Casa</td>\n",
       "      <td>Sala_Emergencia</td>\n",
       "      <td>2</td>\n",
       "      <td>44</td>\n",
       "      <td>...</td>\n",
       "      <td>403</td>\n",
       "      <td>7</td>\n",
       "      <td>None</td>\n",
       "      <td>None</td>\n",
       "      <td>Ch</td>\n",
       "      <td>Yes</td>\n",
       "      <td>0</td>\n",
       "      <td>3</td>\n",
       "      <td>1</td>\n",
       "      <td>1</td>\n",
       "    </tr>\n",
       "    <tr>\n",
       "      <th>4</th>\n",
       "      <td>16680</td>\n",
       "      <td>42519267</td>\n",
       "      <td>Caucasian</td>\n",
       "      <td>Male</td>\n",
       "      <td>[0-50)</td>\n",
       "      <td>Emergencia</td>\n",
       "      <td>Casa</td>\n",
       "      <td>Sala_Emergencia</td>\n",
       "      <td>1</td>\n",
       "      <td>51</td>\n",
       "      <td>...</td>\n",
       "      <td>250</td>\n",
       "      <td>5</td>\n",
       "      <td>None</td>\n",
       "      <td>None</td>\n",
       "      <td>Ch</td>\n",
       "      <td>Yes</td>\n",
       "      <td>0</td>\n",
       "      <td>1</td>\n",
       "      <td>0</td>\n",
       "      <td>2</td>\n",
       "    </tr>\n",
       "    <tr>\n",
       "      <th>5</th>\n",
       "      <td>35754</td>\n",
       "      <td>82637451</td>\n",
       "      <td>Caucasian</td>\n",
       "      <td>Male</td>\n",
       "      <td>[50-60)</td>\n",
       "      <td>Outro</td>\n",
       "      <td>Casa</td>\n",
       "      <td>Outro</td>\n",
       "      <td>3</td>\n",
       "      <td>31</td>\n",
       "      <td>...</td>\n",
       "      <td>250</td>\n",
       "      <td>9</td>\n",
       "      <td>None</td>\n",
       "      <td>None</td>\n",
       "      <td>No</td>\n",
       "      <td>Yes</td>\n",
       "      <td>1</td>\n",
       "      <td>3</td>\n",
       "      <td>0</td>\n",
       "      <td>1</td>\n",
       "    </tr>\n",
       "  </tbody>\n",
       "</table>\n",
       "<p>5 rows × 27 columns</p>\n",
       "</div>"
      ],
      "text/plain": [
       "   encounter_id  patient_nbr             race  gender      age  \\\n",
       "1        149190     55629189        Caucasian  Female   [0-50)   \n",
       "2         64410     86047875  AfricanAmerican  Female   [0-50)   \n",
       "3        500364     82442376        Caucasian    Male   [0-50)   \n",
       "4         16680     42519267        Caucasian    Male   [0-50)   \n",
       "5         35754     82637451        Caucasian    Male  [50-60)   \n",
       "\n",
       "  admission_type_id discharge_disposition_id admission_source_id  \\\n",
       "1        Emergencia                     Casa     Sala_Emergencia   \n",
       "2        Emergencia                     Casa     Sala_Emergencia   \n",
       "3        Emergencia                     Casa     Sala_Emergencia   \n",
       "4        Emergencia                     Casa     Sala_Emergencia   \n",
       "5             Outro                     Casa               Outro   \n",
       "\n",
       "   time_in_hospital  num_lab_procedures  ...  diag_3  number_diagnoses  \\\n",
       "1                 3                  59  ...     255                 9   \n",
       "2                 2                  11  ...     V27                 6   \n",
       "3                 2                  44  ...     403                 7   \n",
       "4                 1                  51  ...     250                 5   \n",
       "5                 3                  31  ...     250                 9   \n",
       "\n",
       "   max_glu_serum  A1Cresult  change diabetesMed readmitted comorbidade  \\\n",
       "1           None       None      Ch         Yes          1           1   \n",
       "2           None       None      No         Yes          0           1   \n",
       "3           None       None      Ch         Yes          0           3   \n",
       "4           None       None      Ch         Yes          0           1   \n",
       "5           None       None      No         Yes          1           3   \n",
       "\n",
       "   num_alt_dosagem_med num_med  \n",
       "1                    1       1  \n",
       "2                    0       1  \n",
       "3                    1       1  \n",
       "4                    0       2  \n",
       "5                    0       1  \n",
       "\n",
       "[5 rows x 27 columns]"
      ]
     },
     "execution_count": 76,
     "metadata": {},
     "output_type": "execute_result"
    }
   ],
   "source": [
    "dados.head()"
   ]
  },
  {
   "cell_type": "code",
   "execution_count": 77,
   "id": "87f2fbe8",
   "metadata": {},
   "outputs": [
    {
     "data": {
      "text/plain": [
       "encounter_id                 int64\n",
       "patient_nbr                  int64\n",
       "race                        object\n",
       "gender                      object\n",
       "age                         object\n",
       "admission_type_id           object\n",
       "discharge_disposition_id    object\n",
       "admission_source_id         object\n",
       "time_in_hospital             int64\n",
       "num_lab_procedures           int64\n",
       "num_procedures               int64\n",
       "num_medications              int64\n",
       "number_outpatient            int64\n",
       "number_emergency             int64\n",
       "number_inpatient             int64\n",
       "diag_1                      object\n",
       "diag_2                      object\n",
       "diag_3                      object\n",
       "number_diagnoses             int64\n",
       "max_glu_serum               object\n",
       "A1Cresult                   object\n",
       "change                      object\n",
       "diabetesMed                 object\n",
       "readmitted                   int64\n",
       "comorbidade                  int64\n",
       "num_alt_dosagem_med          int64\n",
       "num_med                      int64\n",
       "dtype: object"
      ]
     },
     "execution_count": 77,
     "metadata": {},
     "output_type": "execute_result"
    }
   ],
   "source": [
    "# Variáveis\n",
    "dados.dtypes"
   ]
  },
  {
   "cell_type": "markdown",
   "id": "6cd7efe4",
   "metadata": {},
   "source": [
    "### **Recoding de variáveis categóricas**"
   ]
  },
  {
   "cell_type": "markdown",
   "id": "9c3f9b99",
   "metadata": {},
   "source": [
    "Vamos fazer o recoding de algumas variáveis categóricas.\n"
   ]
  },
  {
   "cell_type": "code",
   "execution_count": 78,
   "id": "bbd94bec",
   "metadata": {},
   "outputs": [
    {
     "data": {
      "text/plain": [
       "No    52774\n",
       "Ch    45278\n",
       "Name: change, dtype: int64"
      ]
     },
     "execution_count": 78,
     "metadata": {},
     "output_type": "execute_result"
    }
   ],
   "source": [
    "dados['change'].value_counts()"
   ]
  },
  {
   "cell_type": "code",
   "execution_count": 79,
   "id": "b6a3507d",
   "metadata": {},
   "outputs": [
    {
     "data": {
      "text/plain": [
       "Female    52833\n",
       "Male      45219\n",
       "Name: gender, dtype: int64"
      ]
     },
     "execution_count": 79,
     "metadata": {},
     "output_type": "execute_result"
    }
   ],
   "source": [
    "dados['gender'].value_counts()"
   ]
  },
  {
   "cell_type": "code",
   "execution_count": 80,
   "id": "2ef9a5b3",
   "metadata": {},
   "outputs": [
    {
     "data": {
      "text/plain": [
       "Yes    75350\n",
       "No     22702\n",
       "Name: diabetesMed, dtype: int64"
      ]
     },
     "execution_count": 80,
     "metadata": {},
     "output_type": "execute_result"
    }
   ],
   "source": [
    "dados['diabetesMed'].value_counts()"
   ]
  },
  {
   "cell_type": "code",
   "execution_count": 81,
   "id": "66674327",
   "metadata": {},
   "outputs": [],
   "source": [
    "# Recoding de variáveis categóricas binárias\n",
    "dados['change'] = dados['change'].replace('Ch', 1)\n",
    "dados['change'] = dados['change'].replace('No', 0)\n",
    "dados['gender'] = dados['gender'].replace('Male', 1)\n",
    "dados['gender'] = dados['gender'].replace('Female', 0)\n",
    "dados['diabetesMed'] = dados['diabetesMed'].replace('Yes', 1)\n",
    "dados['diabetesMed'] = dados['diabetesMed'].replace('No', 0)"
   ]
  },
  {
   "cell_type": "code",
   "execution_count": 82,
   "id": "6503f103",
   "metadata": {},
   "outputs": [
    {
     "data": {
      "text/html": [
       "<div>\n",
       "<style scoped>\n",
       "    .dataframe tbody tr th:only-of-type {\n",
       "        vertical-align: middle;\n",
       "    }\n",
       "\n",
       "    .dataframe tbody tr th {\n",
       "        vertical-align: top;\n",
       "    }\n",
       "\n",
       "    .dataframe thead th {\n",
       "        text-align: right;\n",
       "    }\n",
       "</style>\n",
       "<table border=\"1\" class=\"dataframe\">\n",
       "  <thead>\n",
       "    <tr style=\"text-align: right;\">\n",
       "      <th></th>\n",
       "      <th>encounter_id</th>\n",
       "      <th>patient_nbr</th>\n",
       "      <th>race</th>\n",
       "      <th>gender</th>\n",
       "      <th>age</th>\n",
       "      <th>admission_type_id</th>\n",
       "      <th>discharge_disposition_id</th>\n",
       "      <th>admission_source_id</th>\n",
       "      <th>time_in_hospital</th>\n",
       "      <th>num_lab_procedures</th>\n",
       "      <th>...</th>\n",
       "      <th>diag_3</th>\n",
       "      <th>number_diagnoses</th>\n",
       "      <th>max_glu_serum</th>\n",
       "      <th>A1Cresult</th>\n",
       "      <th>change</th>\n",
       "      <th>diabetesMed</th>\n",
       "      <th>readmitted</th>\n",
       "      <th>comorbidade</th>\n",
       "      <th>num_alt_dosagem_med</th>\n",
       "      <th>num_med</th>\n",
       "    </tr>\n",
       "  </thead>\n",
       "  <tbody>\n",
       "    <tr>\n",
       "      <th>1</th>\n",
       "      <td>149190</td>\n",
       "      <td>55629189</td>\n",
       "      <td>Caucasian</td>\n",
       "      <td>0</td>\n",
       "      <td>[0-50)</td>\n",
       "      <td>Emergencia</td>\n",
       "      <td>Casa</td>\n",
       "      <td>Sala_Emergencia</td>\n",
       "      <td>3</td>\n",
       "      <td>59</td>\n",
       "      <td>...</td>\n",
       "      <td>255</td>\n",
       "      <td>9</td>\n",
       "      <td>None</td>\n",
       "      <td>None</td>\n",
       "      <td>1</td>\n",
       "      <td>1</td>\n",
       "      <td>1</td>\n",
       "      <td>1</td>\n",
       "      <td>1</td>\n",
       "      <td>1</td>\n",
       "    </tr>\n",
       "    <tr>\n",
       "      <th>2</th>\n",
       "      <td>64410</td>\n",
       "      <td>86047875</td>\n",
       "      <td>AfricanAmerican</td>\n",
       "      <td>0</td>\n",
       "      <td>[0-50)</td>\n",
       "      <td>Emergencia</td>\n",
       "      <td>Casa</td>\n",
       "      <td>Sala_Emergencia</td>\n",
       "      <td>2</td>\n",
       "      <td>11</td>\n",
       "      <td>...</td>\n",
       "      <td>V27</td>\n",
       "      <td>6</td>\n",
       "      <td>None</td>\n",
       "      <td>None</td>\n",
       "      <td>0</td>\n",
       "      <td>1</td>\n",
       "      <td>0</td>\n",
       "      <td>1</td>\n",
       "      <td>0</td>\n",
       "      <td>1</td>\n",
       "    </tr>\n",
       "    <tr>\n",
       "      <th>3</th>\n",
       "      <td>500364</td>\n",
       "      <td>82442376</td>\n",
       "      <td>Caucasian</td>\n",
       "      <td>1</td>\n",
       "      <td>[0-50)</td>\n",
       "      <td>Emergencia</td>\n",
       "      <td>Casa</td>\n",
       "      <td>Sala_Emergencia</td>\n",
       "      <td>2</td>\n",
       "      <td>44</td>\n",
       "      <td>...</td>\n",
       "      <td>403</td>\n",
       "      <td>7</td>\n",
       "      <td>None</td>\n",
       "      <td>None</td>\n",
       "      <td>1</td>\n",
       "      <td>1</td>\n",
       "      <td>0</td>\n",
       "      <td>3</td>\n",
       "      <td>1</td>\n",
       "      <td>1</td>\n",
       "    </tr>\n",
       "    <tr>\n",
       "      <th>4</th>\n",
       "      <td>16680</td>\n",
       "      <td>42519267</td>\n",
       "      <td>Caucasian</td>\n",
       "      <td>1</td>\n",
       "      <td>[0-50)</td>\n",
       "      <td>Emergencia</td>\n",
       "      <td>Casa</td>\n",
       "      <td>Sala_Emergencia</td>\n",
       "      <td>1</td>\n",
       "      <td>51</td>\n",
       "      <td>...</td>\n",
       "      <td>250</td>\n",
       "      <td>5</td>\n",
       "      <td>None</td>\n",
       "      <td>None</td>\n",
       "      <td>1</td>\n",
       "      <td>1</td>\n",
       "      <td>0</td>\n",
       "      <td>1</td>\n",
       "      <td>0</td>\n",
       "      <td>2</td>\n",
       "    </tr>\n",
       "    <tr>\n",
       "      <th>5</th>\n",
       "      <td>35754</td>\n",
       "      <td>82637451</td>\n",
       "      <td>Caucasian</td>\n",
       "      <td>1</td>\n",
       "      <td>[50-60)</td>\n",
       "      <td>Outro</td>\n",
       "      <td>Casa</td>\n",
       "      <td>Outro</td>\n",
       "      <td>3</td>\n",
       "      <td>31</td>\n",
       "      <td>...</td>\n",
       "      <td>250</td>\n",
       "      <td>9</td>\n",
       "      <td>None</td>\n",
       "      <td>None</td>\n",
       "      <td>0</td>\n",
       "      <td>1</td>\n",
       "      <td>1</td>\n",
       "      <td>3</td>\n",
       "      <td>0</td>\n",
       "      <td>1</td>\n",
       "    </tr>\n",
       "  </tbody>\n",
       "</table>\n",
       "<p>5 rows × 27 columns</p>\n",
       "</div>"
      ],
      "text/plain": [
       "   encounter_id  patient_nbr             race  gender      age  \\\n",
       "1        149190     55629189        Caucasian       0   [0-50)   \n",
       "2         64410     86047875  AfricanAmerican       0   [0-50)   \n",
       "3        500364     82442376        Caucasian       1   [0-50)   \n",
       "4         16680     42519267        Caucasian       1   [0-50)   \n",
       "5         35754     82637451        Caucasian       1  [50-60)   \n",
       "\n",
       "  admission_type_id discharge_disposition_id admission_source_id  \\\n",
       "1        Emergencia                     Casa     Sala_Emergencia   \n",
       "2        Emergencia                     Casa     Sala_Emergencia   \n",
       "3        Emergencia                     Casa     Sala_Emergencia   \n",
       "4        Emergencia                     Casa     Sala_Emergencia   \n",
       "5             Outro                     Casa               Outro   \n",
       "\n",
       "   time_in_hospital  num_lab_procedures  ...  diag_3  number_diagnoses  \\\n",
       "1                 3                  59  ...     255                 9   \n",
       "2                 2                  11  ...     V27                 6   \n",
       "3                 2                  44  ...     403                 7   \n",
       "4                 1                  51  ...     250                 5   \n",
       "5                 3                  31  ...     250                 9   \n",
       "\n",
       "   max_glu_serum  A1Cresult  change diabetesMed readmitted comorbidade  \\\n",
       "1           None       None       1           1          1           1   \n",
       "2           None       None       0           1          0           1   \n",
       "3           None       None       1           1          0           3   \n",
       "4           None       None       1           1          0           1   \n",
       "5           None       None       0           1          1           3   \n",
       "\n",
       "   num_alt_dosagem_med num_med  \n",
       "1                    1       1  \n",
       "2                    0       1  \n",
       "3                    1       1  \n",
       "4                    0       2  \n",
       "5                    0       1  \n",
       "\n",
       "[5 rows x 27 columns]"
      ]
     },
     "execution_count": 82,
     "metadata": {},
     "output_type": "execute_result"
    }
   ],
   "source": [
    "dados.head()"
   ]
  },
  {
   "cell_type": "markdown",
   "id": "177da273",
   "metadata": {},
   "source": [
    "Também reduziremos o resultado do teste A1C e o resultado do teste sérico de glicose em categorias de Normal, Anormal e Não Testado, com valores 1, 0 e -99, respectivamente."
   ]
  },
  {
   "cell_type": "code",
   "execution_count": 83,
   "id": "44ec507e",
   "metadata": {},
   "outputs": [
    {
     "data": {
      "text/plain": [
       "None    81859\n",
       ">8       7631\n",
       "Norm     4854\n",
       ">7       3708\n",
       "Name: A1Cresult, dtype: int64"
      ]
     },
     "execution_count": 83,
     "metadata": {},
     "output_type": "execute_result"
    }
   ],
   "source": [
    "dados['A1Cresult'].value_counts()"
   ]
  },
  {
   "cell_type": "code",
   "execution_count": 84,
   "id": "c447cab4",
   "metadata": {},
   "outputs": [
    {
     "data": {
      "text/plain": [
       "None    92844\n",
       "Norm     2532\n",
       ">200     1449\n",
       ">300     1227\n",
       "Name: max_glu_serum, dtype: int64"
      ]
     },
     "execution_count": 84,
     "metadata": {},
     "output_type": "execute_result"
    }
   ],
   "source": [
    "dados['max_glu_serum'].value_counts()"
   ]
  },
  {
   "cell_type": "code",
   "execution_count": 85,
   "id": "b4e4b9fb",
   "metadata": {},
   "outputs": [],
   "source": [
    "# Recoding de variáveis categóricas (Label Encoding)\n",
    "dados['A1Cresult'] = dados['A1Cresult'].replace('>8', 1)\n",
    "dados['A1Cresult'] = dados['A1Cresult'].replace('>7', 1)\n",
    "dados['A1Cresult'] = dados['A1Cresult'].replace('Norm', 0)\n",
    "dados['A1Cresult'] = dados['A1Cresult'].replace('None', -99)\n",
    "dados['max_glu_serum'] = dados['max_glu_serum'].replace('>200', 1)\n",
    "dados['max_glu_serum'] = dados['max_glu_serum'].replace('>300', 1)\n",
    "dados['max_glu_serum'] = dados['max_glu_serum'].replace('Norm', 0)\n",
    "dados['max_glu_serum'] = dados['max_glu_serum'].replace('None', -99)"
   ]
  },
  {
   "cell_type": "code",
   "execution_count": 86,
   "id": "a3395d07",
   "metadata": {},
   "outputs": [
    {
     "data": {
      "text/html": [
       "<div>\n",
       "<style scoped>\n",
       "    .dataframe tbody tr th:only-of-type {\n",
       "        vertical-align: middle;\n",
       "    }\n",
       "\n",
       "    .dataframe tbody tr th {\n",
       "        vertical-align: top;\n",
       "    }\n",
       "\n",
       "    .dataframe thead th {\n",
       "        text-align: right;\n",
       "    }\n",
       "</style>\n",
       "<table border=\"1\" class=\"dataframe\">\n",
       "  <thead>\n",
       "    <tr style=\"text-align: right;\">\n",
       "      <th></th>\n",
       "      <th>encounter_id</th>\n",
       "      <th>patient_nbr</th>\n",
       "      <th>race</th>\n",
       "      <th>gender</th>\n",
       "      <th>age</th>\n",
       "      <th>admission_type_id</th>\n",
       "      <th>discharge_disposition_id</th>\n",
       "      <th>admission_source_id</th>\n",
       "      <th>time_in_hospital</th>\n",
       "      <th>num_lab_procedures</th>\n",
       "      <th>...</th>\n",
       "      <th>diag_3</th>\n",
       "      <th>number_diagnoses</th>\n",
       "      <th>max_glu_serum</th>\n",
       "      <th>A1Cresult</th>\n",
       "      <th>change</th>\n",
       "      <th>diabetesMed</th>\n",
       "      <th>readmitted</th>\n",
       "      <th>comorbidade</th>\n",
       "      <th>num_alt_dosagem_med</th>\n",
       "      <th>num_med</th>\n",
       "    </tr>\n",
       "  </thead>\n",
       "  <tbody>\n",
       "    <tr>\n",
       "      <th>1</th>\n",
       "      <td>149190</td>\n",
       "      <td>55629189</td>\n",
       "      <td>Caucasian</td>\n",
       "      <td>0</td>\n",
       "      <td>[0-50)</td>\n",
       "      <td>Emergencia</td>\n",
       "      <td>Casa</td>\n",
       "      <td>Sala_Emergencia</td>\n",
       "      <td>3</td>\n",
       "      <td>59</td>\n",
       "      <td>...</td>\n",
       "      <td>255</td>\n",
       "      <td>9</td>\n",
       "      <td>-99</td>\n",
       "      <td>-99</td>\n",
       "      <td>1</td>\n",
       "      <td>1</td>\n",
       "      <td>1</td>\n",
       "      <td>1</td>\n",
       "      <td>1</td>\n",
       "      <td>1</td>\n",
       "    </tr>\n",
       "    <tr>\n",
       "      <th>2</th>\n",
       "      <td>64410</td>\n",
       "      <td>86047875</td>\n",
       "      <td>AfricanAmerican</td>\n",
       "      <td>0</td>\n",
       "      <td>[0-50)</td>\n",
       "      <td>Emergencia</td>\n",
       "      <td>Casa</td>\n",
       "      <td>Sala_Emergencia</td>\n",
       "      <td>2</td>\n",
       "      <td>11</td>\n",
       "      <td>...</td>\n",
       "      <td>V27</td>\n",
       "      <td>6</td>\n",
       "      <td>-99</td>\n",
       "      <td>-99</td>\n",
       "      <td>0</td>\n",
       "      <td>1</td>\n",
       "      <td>0</td>\n",
       "      <td>1</td>\n",
       "      <td>0</td>\n",
       "      <td>1</td>\n",
       "    </tr>\n",
       "    <tr>\n",
       "      <th>3</th>\n",
       "      <td>500364</td>\n",
       "      <td>82442376</td>\n",
       "      <td>Caucasian</td>\n",
       "      <td>1</td>\n",
       "      <td>[0-50)</td>\n",
       "      <td>Emergencia</td>\n",
       "      <td>Casa</td>\n",
       "      <td>Sala_Emergencia</td>\n",
       "      <td>2</td>\n",
       "      <td>44</td>\n",
       "      <td>...</td>\n",
       "      <td>403</td>\n",
       "      <td>7</td>\n",
       "      <td>-99</td>\n",
       "      <td>-99</td>\n",
       "      <td>1</td>\n",
       "      <td>1</td>\n",
       "      <td>0</td>\n",
       "      <td>3</td>\n",
       "      <td>1</td>\n",
       "      <td>1</td>\n",
       "    </tr>\n",
       "    <tr>\n",
       "      <th>4</th>\n",
       "      <td>16680</td>\n",
       "      <td>42519267</td>\n",
       "      <td>Caucasian</td>\n",
       "      <td>1</td>\n",
       "      <td>[0-50)</td>\n",
       "      <td>Emergencia</td>\n",
       "      <td>Casa</td>\n",
       "      <td>Sala_Emergencia</td>\n",
       "      <td>1</td>\n",
       "      <td>51</td>\n",
       "      <td>...</td>\n",
       "      <td>250</td>\n",
       "      <td>5</td>\n",
       "      <td>-99</td>\n",
       "      <td>-99</td>\n",
       "      <td>1</td>\n",
       "      <td>1</td>\n",
       "      <td>0</td>\n",
       "      <td>1</td>\n",
       "      <td>0</td>\n",
       "      <td>2</td>\n",
       "    </tr>\n",
       "    <tr>\n",
       "      <th>5</th>\n",
       "      <td>35754</td>\n",
       "      <td>82637451</td>\n",
       "      <td>Caucasian</td>\n",
       "      <td>1</td>\n",
       "      <td>[50-60)</td>\n",
       "      <td>Outro</td>\n",
       "      <td>Casa</td>\n",
       "      <td>Outro</td>\n",
       "      <td>3</td>\n",
       "      <td>31</td>\n",
       "      <td>...</td>\n",
       "      <td>250</td>\n",
       "      <td>9</td>\n",
       "      <td>-99</td>\n",
       "      <td>-99</td>\n",
       "      <td>0</td>\n",
       "      <td>1</td>\n",
       "      <td>1</td>\n",
       "      <td>3</td>\n",
       "      <td>0</td>\n",
       "      <td>1</td>\n",
       "    </tr>\n",
       "  </tbody>\n",
       "</table>\n",
       "<p>5 rows × 27 columns</p>\n",
       "</div>"
      ],
      "text/plain": [
       "   encounter_id  patient_nbr             race  gender      age  \\\n",
       "1        149190     55629189        Caucasian       0   [0-50)   \n",
       "2         64410     86047875  AfricanAmerican       0   [0-50)   \n",
       "3        500364     82442376        Caucasian       1   [0-50)   \n",
       "4         16680     42519267        Caucasian       1   [0-50)   \n",
       "5         35754     82637451        Caucasian       1  [50-60)   \n",
       "\n",
       "  admission_type_id discharge_disposition_id admission_source_id  \\\n",
       "1        Emergencia                     Casa     Sala_Emergencia   \n",
       "2        Emergencia                     Casa     Sala_Emergencia   \n",
       "3        Emergencia                     Casa     Sala_Emergencia   \n",
       "4        Emergencia                     Casa     Sala_Emergencia   \n",
       "5             Outro                     Casa               Outro   \n",
       "\n",
       "   time_in_hospital  num_lab_procedures  ...  diag_3  number_diagnoses  \\\n",
       "1                 3                  59  ...     255                 9   \n",
       "2                 2                  11  ...     V27                 6   \n",
       "3                 2                  44  ...     403                 7   \n",
       "4                 1                  51  ...     250                 5   \n",
       "5                 3                  31  ...     250                 9   \n",
       "\n",
       "   max_glu_serum  A1Cresult  change diabetesMed readmitted comorbidade  \\\n",
       "1            -99        -99       1           1          1           1   \n",
       "2            -99        -99       0           1          0           1   \n",
       "3            -99        -99       1           1          0           3   \n",
       "4            -99        -99       1           1          0           1   \n",
       "5            -99        -99       0           1          1           3   \n",
       "\n",
       "   num_alt_dosagem_med  num_med  \n",
       "1                    1        1  \n",
       "2                    0        1  \n",
       "3                    1        1  \n",
       "4                    0        2  \n",
       "5                    0        1  \n",
       "\n",
       "[5 rows x 27 columns]"
      ]
     },
     "execution_count": 86,
     "metadata": {},
     "output_type": "execute_result"
    }
   ],
   "source": [
    "dados.head()"
   ]
  },
  {
   "cell_type": "markdown",
   "id": "9ae18bc7",
   "metadata": {},
   "source": [
    "-99 Significa que não houve resultado para os exames."
   ]
  },
  {
   "cell_type": "markdown",
   "id": "533d4f5a",
   "metadata": {},
   "source": [
    "Alguns pacientes no conjunto de dados tiveram mais de um encontro (consulta). \n",
    "\n",
    "Não podemos contá-los como encontros independentes, porque isso influencia os resultados para aqueles pacientes que tiveram vários encontros. Assim, tentamos várias técnicas para recolher e consolidar vários encontros para o mesmo paciente, como:\n",
    "\n",
    "- Considerar a permanência média no hospital em vários encontros.\n",
    "- Considerar a porcentagem de alterações na medicação em vários encontros.\n",
    "- Considerar o número total de encontros para substituir o ID exclusivo do encontro.\n",
    "- Considerar a combinação de diagnósticos em vários encontros como uma lista.\n",
    "\n",
    "Por fim, o ideal foi deixar apenas um registro de encontro para cada paciente e optamos por manter o primeiro."
   ]
  },
  {
   "cell_type": "code",
   "execution_count": 87,
   "id": "97318a46",
   "metadata": {},
   "outputs": [],
   "source": [
    "# Removendo duplicidade por id de paciente, mantendo o primeiro registro\n",
    "dados = dados.drop_duplicates(subset = ['patient_nbr'], keep= 'first')"
   ]
  },
  {
   "cell_type": "code",
   "execution_count": 88,
   "id": "c534fedb",
   "metadata": {},
   "outputs": [
    {
     "data": {
      "text/plain": [
       "(68629, 27)"
      ]
     },
     "execution_count": 88,
     "metadata": {},
     "output_type": "execute_result"
    }
   ],
   "source": [
    "dados.shape"
   ]
  },
  {
   "cell_type": "code",
   "execution_count": 89,
   "id": "b556a8dd",
   "metadata": {},
   "outputs": [
    {
     "data": {
      "text/html": [
       "<div>\n",
       "<style scoped>\n",
       "    .dataframe tbody tr th:only-of-type {\n",
       "        vertical-align: middle;\n",
       "    }\n",
       "\n",
       "    .dataframe tbody tr th {\n",
       "        vertical-align: top;\n",
       "    }\n",
       "\n",
       "    .dataframe thead th {\n",
       "        text-align: right;\n",
       "    }\n",
       "</style>\n",
       "<table border=\"1\" class=\"dataframe\">\n",
       "  <thead>\n",
       "    <tr style=\"text-align: right;\">\n",
       "      <th></th>\n",
       "      <th>encounter_id</th>\n",
       "      <th>patient_nbr</th>\n",
       "      <th>race</th>\n",
       "      <th>gender</th>\n",
       "      <th>age</th>\n",
       "      <th>admission_type_id</th>\n",
       "      <th>discharge_disposition_id</th>\n",
       "      <th>admission_source_id</th>\n",
       "      <th>time_in_hospital</th>\n",
       "      <th>num_lab_procedures</th>\n",
       "      <th>...</th>\n",
       "      <th>diag_3</th>\n",
       "      <th>number_diagnoses</th>\n",
       "      <th>max_glu_serum</th>\n",
       "      <th>A1Cresult</th>\n",
       "      <th>change</th>\n",
       "      <th>diabetesMed</th>\n",
       "      <th>readmitted</th>\n",
       "      <th>comorbidade</th>\n",
       "      <th>num_alt_dosagem_med</th>\n",
       "      <th>num_med</th>\n",
       "    </tr>\n",
       "  </thead>\n",
       "  <tbody>\n",
       "    <tr>\n",
       "      <th>1</th>\n",
       "      <td>149190</td>\n",
       "      <td>55629189</td>\n",
       "      <td>Caucasian</td>\n",
       "      <td>0</td>\n",
       "      <td>[0-50)</td>\n",
       "      <td>Emergencia</td>\n",
       "      <td>Casa</td>\n",
       "      <td>Sala_Emergencia</td>\n",
       "      <td>3</td>\n",
       "      <td>59</td>\n",
       "      <td>...</td>\n",
       "      <td>255</td>\n",
       "      <td>9</td>\n",
       "      <td>-99</td>\n",
       "      <td>-99</td>\n",
       "      <td>1</td>\n",
       "      <td>1</td>\n",
       "      <td>1</td>\n",
       "      <td>1</td>\n",
       "      <td>1</td>\n",
       "      <td>1</td>\n",
       "    </tr>\n",
       "    <tr>\n",
       "      <th>2</th>\n",
       "      <td>64410</td>\n",
       "      <td>86047875</td>\n",
       "      <td>AfricanAmerican</td>\n",
       "      <td>0</td>\n",
       "      <td>[0-50)</td>\n",
       "      <td>Emergencia</td>\n",
       "      <td>Casa</td>\n",
       "      <td>Sala_Emergencia</td>\n",
       "      <td>2</td>\n",
       "      <td>11</td>\n",
       "      <td>...</td>\n",
       "      <td>V27</td>\n",
       "      <td>6</td>\n",
       "      <td>-99</td>\n",
       "      <td>-99</td>\n",
       "      <td>0</td>\n",
       "      <td>1</td>\n",
       "      <td>0</td>\n",
       "      <td>1</td>\n",
       "      <td>0</td>\n",
       "      <td>1</td>\n",
       "    </tr>\n",
       "    <tr>\n",
       "      <th>3</th>\n",
       "      <td>500364</td>\n",
       "      <td>82442376</td>\n",
       "      <td>Caucasian</td>\n",
       "      <td>1</td>\n",
       "      <td>[0-50)</td>\n",
       "      <td>Emergencia</td>\n",
       "      <td>Casa</td>\n",
       "      <td>Sala_Emergencia</td>\n",
       "      <td>2</td>\n",
       "      <td>44</td>\n",
       "      <td>...</td>\n",
       "      <td>403</td>\n",
       "      <td>7</td>\n",
       "      <td>-99</td>\n",
       "      <td>-99</td>\n",
       "      <td>1</td>\n",
       "      <td>1</td>\n",
       "      <td>0</td>\n",
       "      <td>3</td>\n",
       "      <td>1</td>\n",
       "      <td>1</td>\n",
       "    </tr>\n",
       "    <tr>\n",
       "      <th>4</th>\n",
       "      <td>16680</td>\n",
       "      <td>42519267</td>\n",
       "      <td>Caucasian</td>\n",
       "      <td>1</td>\n",
       "      <td>[0-50)</td>\n",
       "      <td>Emergencia</td>\n",
       "      <td>Casa</td>\n",
       "      <td>Sala_Emergencia</td>\n",
       "      <td>1</td>\n",
       "      <td>51</td>\n",
       "      <td>...</td>\n",
       "      <td>250</td>\n",
       "      <td>5</td>\n",
       "      <td>-99</td>\n",
       "      <td>-99</td>\n",
       "      <td>1</td>\n",
       "      <td>1</td>\n",
       "      <td>0</td>\n",
       "      <td>1</td>\n",
       "      <td>0</td>\n",
       "      <td>2</td>\n",
       "    </tr>\n",
       "    <tr>\n",
       "      <th>5</th>\n",
       "      <td>35754</td>\n",
       "      <td>82637451</td>\n",
       "      <td>Caucasian</td>\n",
       "      <td>1</td>\n",
       "      <td>[50-60)</td>\n",
       "      <td>Outro</td>\n",
       "      <td>Casa</td>\n",
       "      <td>Outro</td>\n",
       "      <td>3</td>\n",
       "      <td>31</td>\n",
       "      <td>...</td>\n",
       "      <td>250</td>\n",
       "      <td>9</td>\n",
       "      <td>-99</td>\n",
       "      <td>-99</td>\n",
       "      <td>0</td>\n",
       "      <td>1</td>\n",
       "      <td>1</td>\n",
       "      <td>3</td>\n",
       "      <td>0</td>\n",
       "      <td>1</td>\n",
       "    </tr>\n",
       "  </tbody>\n",
       "</table>\n",
       "<p>5 rows × 27 columns</p>\n",
       "</div>"
      ],
      "text/plain": [
       "   encounter_id  patient_nbr             race  gender      age  \\\n",
       "1        149190     55629189        Caucasian       0   [0-50)   \n",
       "2         64410     86047875  AfricanAmerican       0   [0-50)   \n",
       "3        500364     82442376        Caucasian       1   [0-50)   \n",
       "4         16680     42519267        Caucasian       1   [0-50)   \n",
       "5         35754     82637451        Caucasian       1  [50-60)   \n",
       "\n",
       "  admission_type_id discharge_disposition_id admission_source_id  \\\n",
       "1        Emergencia                     Casa     Sala_Emergencia   \n",
       "2        Emergencia                     Casa     Sala_Emergencia   \n",
       "3        Emergencia                     Casa     Sala_Emergencia   \n",
       "4        Emergencia                     Casa     Sala_Emergencia   \n",
       "5             Outro                     Casa               Outro   \n",
       "\n",
       "   time_in_hospital  num_lab_procedures  ...  diag_3  number_diagnoses  \\\n",
       "1                 3                  59  ...     255                 9   \n",
       "2                 2                  11  ...     V27                 6   \n",
       "3                 2                  44  ...     403                 7   \n",
       "4                 1                  51  ...     250                 5   \n",
       "5                 3                  31  ...     250                 9   \n",
       "\n",
       "   max_glu_serum  A1Cresult  change diabetesMed readmitted comorbidade  \\\n",
       "1            -99        -99       1           1          1           1   \n",
       "2            -99        -99       0           1          0           1   \n",
       "3            -99        -99       1           1          0           3   \n",
       "4            -99        -99       1           1          0           1   \n",
       "5            -99        -99       0           1          1           3   \n",
       "\n",
       "   num_alt_dosagem_med  num_med  \n",
       "1                    1        1  \n",
       "2                    0        1  \n",
       "3                    1        1  \n",
       "4                    0        2  \n",
       "5                    0        1  \n",
       "\n",
       "[5 rows x 27 columns]"
      ]
     },
     "execution_count": 89,
     "metadata": {},
     "output_type": "execute_result"
    }
   ],
   "source": [
    "dados.head()"
   ]
  },
  {
   "cell_type": "markdown",
   "id": "72499b15",
   "metadata": {},
   "source": [
    "## Análise Exploratória"
   ]
  },
  {
   "cell_type": "code",
   "execution_count": 90,
   "id": "56329ab3",
   "metadata": {},
   "outputs": [
    {
     "name": "stdout",
     "output_type": "stream",
     "text": [
      "<class 'pandas.core.frame.DataFrame'>\n",
      "Int64Index: 68629 entries, 1 to 101765\n",
      "Data columns (total 27 columns):\n",
      " #   Column                    Non-Null Count  Dtype \n",
      "---  ------                    --------------  ----- \n",
      " 0   encounter_id              68629 non-null  int64 \n",
      " 1   patient_nbr               68629 non-null  int64 \n",
      " 2   race                      68629 non-null  object\n",
      " 3   gender                    68629 non-null  int64 \n",
      " 4   age                       68629 non-null  object\n",
      " 5   admission_type_id         68629 non-null  object\n",
      " 6   discharge_disposition_id  68629 non-null  object\n",
      " 7   admission_source_id       68629 non-null  object\n",
      " 8   time_in_hospital          68629 non-null  int64 \n",
      " 9   num_lab_procedures        68629 non-null  int64 \n",
      " 10  num_procedures            68629 non-null  int64 \n",
      " 11  num_medications           68629 non-null  int64 \n",
      " 12  number_outpatient         68629 non-null  int64 \n",
      " 13  number_emergency          68629 non-null  int64 \n",
      " 14  number_inpatient          68629 non-null  int64 \n",
      " 15  diag_1                    68629 non-null  object\n",
      " 16  diag_2                    68629 non-null  object\n",
      " 17  diag_3                    68629 non-null  object\n",
      " 18  number_diagnoses          68629 non-null  int64 \n",
      " 19  max_glu_serum             68629 non-null  int64 \n",
      " 20  A1Cresult                 68629 non-null  int64 \n",
      " 21  change                    68629 non-null  int64 \n",
      " 22  diabetesMed               68629 non-null  int64 \n",
      " 23  readmitted                68629 non-null  int64 \n",
      " 24  comorbidade               68629 non-null  int64 \n",
      " 25  num_alt_dosagem_med       68629 non-null  int64 \n",
      " 26  num_med                   68629 non-null  int64 \n",
      "dtypes: int64(19), object(8)\n",
      "memory usage: 14.7+ MB\n"
     ]
    }
   ],
   "source": [
    "# Info\n",
    "dados.info()"
   ]
  },
  {
   "cell_type": "markdown",
   "id": "5faa181f",
   "metadata": {},
   "source": [
    "#### 1- Total de Medicamentos Consumidos Por Faixa Etária"
   ]
  },
  {
   "cell_type": "markdown",
   "id": "ae22db8a",
   "metadata": {},
   "source": [
    "> A faixa etária de pacientes entre 70-80 é a que mais consome medicamentos."
   ]
  },
  {
   "cell_type": "code",
   "execution_count": 91,
   "id": "f5f5b524",
   "metadata": {},
   "outputs": [
    {
     "name": "stdout",
     "output_type": "stream",
     "text": [
      "faixa_etaria\n",
      "[0-50)      11838\n",
      "[50-60)     14847\n",
      "[60-70)     19231\n",
      "[70-80)     20981\n",
      "[80-100)    14166\n",
      "Name: medicamentos_consumidos, dtype: int64\n"
     ]
    }
   ],
   "source": [
    "data = {\n",
    "    'faixa_etaria': dados['age'],\n",
    "    'medicamentos_consumidos': dados['num_med']\n",
    "}\n",
    "df = pd.DataFrame(data)\n",
    "\n",
    "# Agrupar e contar a quantidade de medicamentos consumidos por faixa etária\n",
    "quantidade_por_faixa_etaria = df.groupby(['faixa_etaria'])['medicamentos_consumidos'].sum()\n",
    "\n",
    "print(quantidade_por_faixa_etaria)"
   ]
  },
  {
   "cell_type": "code",
   "execution_count": 92,
   "id": "7c9f33f1",
   "metadata": {},
   "outputs": [
    {
     "data": {
      "image/png": "[encoded data removed]",
      "text/plain": [
       "<Figure size 1152x504 with 1 Axes>"
      ]
     },
     "metadata": {
      "needs_background": "light"
     },
     "output_type": "display_data"
    }
   ],
   "source": [
    "# Tamanho da figura\n",
    "plt.figure(figsize = (16,7))\n",
    "\n",
    "# Criação do gráfico de barras\n",
    "figx = sns.barplot(x = 'age', y = 'num_med', estimator = np.sum, data = dados)\n",
    "\n",
    "# Label do eixo x\n",
    "plt.xlabel(\"Faixa Etária\", fontsize = 14, color = 'black')\n",
    "\n",
    "# Label do eixo y\n",
    "plt.ylabel(\"Total de Medicamentos Consumidos\", fontsize = 14, color = 'black')\n",
    "\n",
    "# Título\n",
    "plt.title(\"Total de Medicamentos Consumidos Por Faixa Etária\", fontsize = 14, color = 'black')\n",
    "\n",
    "# Coloca os totais em cada uma das barras como labels\n",
    "for p in figx.patches:\n",
    "    figx.annotate('{:.0f}'.format(p.get_height()), \n",
    "                  (p.get_x() + 0.2, p.get_height()), \n",
    "                  ha = 'center', \n",
    "                  va = 'bottom', \n",
    "                  fontsize = 14,\n",
    "                  color = 'black')\n",
    "\n",
    "# Mostra o gráfico\n",
    "plt.show()"
   ]
  },
  {
   "cell_type": "markdown",
   "id": "429511cb",
   "metadata": {},
   "source": [
    "#### 2- Total de Readmissões de Pacientes Diabéticos Por Gênero"
   ]
  },
  {
   "cell_type": "markdown",
   "id": "6d4f9f2e",
   "metadata": {},
   "source": [
    "> Pacientes do sexo feminino tem número maior de readmissões."
   ]
  },
  {
   "cell_type": "code",
   "execution_count": 93,
   "id": "0e24cc19",
   "metadata": {},
   "outputs": [
    {
     "name": "stdout",
     "output_type": "stream",
     "text": [
      "sexo\n",
      "0    15076\n",
      "1    12674\n",
      "Name: readmissao, dtype: int64\n"
     ]
    }
   ],
   "source": [
    "data1 = {\n",
    "    'sexo': dados['gender'],\n",
    "    'readmissao': dados['readmitted']\n",
    "}\n",
    "df1 = pd.DataFrame(data1)\n",
    "\n",
    "# Agrupar e contar a quantidade de medicamentos consumidos por faixa etária\n",
    "readmissao_sexo = df1.groupby(['sexo'])['readmissao'].sum()\n",
    "\n",
    "print(readmissao_sexo)"
   ]
  },
  {
   "cell_type": "code",
   "execution_count": 94,
   "id": "98c485fb",
   "metadata": {},
   "outputs": [
    {
     "data": {
      "image/png": "[encoded data removed]",
      "text/plain": [
       "<Figure size 648x432 with 1 Axes>"
      ]
     },
     "metadata": {
      "needs_background": "light"
     },
     "output_type": "display_data"
    }
   ],
   "source": [
    "# Criação do gráfico de barras com label encoding\n",
    "figx = sns.countplot(x='gender', hue='readmitted', data=dados)\n",
    "\n",
    "\n",
    "# Tamanho da figura em polegadas\n",
    "figx.figure.set_size_inches(9,6)\n",
    "\n",
    "# Legenda\n",
    "figx.legend(title = 'Paciente Readmitido', labels = ('Não', 'Sim'))\n",
    "\n",
    "# Label do eixo y\n",
    "plt.ylabel(\"Total de Readmissões\", fontsize = 14, color = 'black')\n",
    "\n",
    "# Título\n",
    "figx.axes.set_title('Total de Readmissões de Pacientes Diabéticos Por Gênero')\n",
    "\n",
    "# Coloca os totais em cada uma das barras como labels\n",
    "for p in figx.patches:\n",
    "    figx.annotate('{:.0f}'.format(p.get_height()), \n",
    "                  (p.get_x() + 0.2, p.get_height()), \n",
    "                  ha = 'center', \n",
    "                  va = 'bottom', \n",
    "                  fontsize = 14,\n",
    "                  color = 'black')\n",
    "    \n",
    "# Mostra o gráfico\n",
    "plt.show()"
   ]
  },
  {
   "cell_type": "markdown",
   "id": "23e0fea5",
   "metadata": {},
   "source": [
    "#### 3- Total de Readmissões de Pacientes Por Faixa Etária"
   ]
  },
  {
   "cell_type": "markdown",
   "id": "c608cffe",
   "metadata": {},
   "source": [
    "> A faixa etária de pacientes entre 70-80 é a que tem o maior número de readmissões."
   ]
  },
  {
   "cell_type": "code",
   "execution_count": 95,
   "id": "b88ec524",
   "metadata": {},
   "outputs": [
    {
     "data": {
      "text/plain": [
       "idade\n",
       "[0-50)      3679\n",
       "[50-60)     4504\n",
       "[60-70)     6220\n",
       "[70-80)     7778\n",
       "[80-100)    5569\n",
       "Name: readmissao, dtype: int64"
      ]
     },
     "execution_count": 95,
     "metadata": {},
     "output_type": "execute_result"
    }
   ],
   "source": [
    "data2 = {\n",
    "    'idade': dados['age'],\n",
    "    'readmissao': dados['readmitted']\n",
    "}\n",
    "df2 = pd.DataFrame(data2)\n",
    "\n",
    "# Agrupar e contar a quantidade de medicamentos consumidos por faixa etária\n",
    "readmissao_idade = df2.groupby(['idade'])['readmissao'].sum()\n",
    "\n",
    "readmissao_idade"
   ]
  },
  {
   "cell_type": "code",
   "execution_count": 96,
   "id": "0c6b2a42",
   "metadata": {},
   "outputs": [
    {
     "data": {
      "image/png": "[encoded data removed]",
      "text/plain": [
       "<Figure size 1152x504 with 1 Axes>"
      ]
     },
     "metadata": {
      "needs_background": "light"
     },
     "output_type": "display_data"
    }
   ],
   "source": [
    "plt.figure(figsize = (16,7))\n",
    "\n",
    "figx = sns.barplot(x = 'age', y = 'readmitted', estimator = np.sum, data = dados)\n",
    "\n",
    "# Label do eixo x\n",
    "plt.xlabel(\"Faixa Etária\", fontsize = 14, color = 'black')\n",
    "\n",
    "# Label do eixo y\n",
    "plt.ylabel(\"Total de Readmissões\", fontsize = 14, color = 'black')\n",
    "\n",
    "# Título\n",
    "plt.title(\"Total de Readmissões de Pacientes Por Faixa Etária\", fontsize = 14, color = 'black')\n",
    "\n",
    "# Coloca os totais em cada uma das barras como labels\n",
    "for p in figx.patches:\n",
    "    figx.annotate('{:.0f}'.format(p.get_height()), \n",
    "                  (p.get_x() + 0.2, p.get_height()), \n",
    "                  ha = 'center', \n",
    "                  va = 'bottom', \n",
    "                  fontsize = 14,\n",
    "                  color = 'black')\n",
    "\n",
    "# Mostra o gráfico\n",
    "plt.show()"
   ]
  },
  {
   "cell_type": "markdown",
   "id": "e6f18251",
   "metadata": {},
   "source": [
    "#### 4- Percentual de Readmissões/Não Readmissões de Pacientes Por Faixa Etária"
   ]
  },
  {
   "cell_type": "markdown",
   "id": "cf2fe2b2",
   "metadata": {},
   "source": [
    "> A faixa etária de pacientes entre 70-80 tem o maior percentual de readmissões, enquanto a faixa etária de 0-50 anos tem o menor percentual."
   ]
  },
  {
   "cell_type": "code",
   "execution_count": 97,
   "id": "54234d95",
   "metadata": {},
   "outputs": [
    {
     "data": {
      "text/html": [
       "<div>\n",
       "<style scoped>\n",
       "    .dataframe tbody tr th:only-of-type {\n",
       "        vertical-align: middle;\n",
       "    }\n",
       "\n",
       "    .dataframe tbody tr th {\n",
       "        vertical-align: top;\n",
       "    }\n",
       "\n",
       "    .dataframe thead th {\n",
       "        text-align: right;\n",
       "    }\n",
       "</style>\n",
       "<table border=\"1\" class=\"dataframe\">\n",
       "  <thead>\n",
       "    <tr style=\"text-align: right;\">\n",
       "      <th>readmitted</th>\n",
       "      <th>0</th>\n",
       "      <th>1</th>\n",
       "    </tr>\n",
       "    <tr>\n",
       "      <th>age</th>\n",
       "      <th></th>\n",
       "      <th></th>\n",
       "    </tr>\n",
       "  </thead>\n",
       "  <tbody>\n",
       "    <tr>\n",
       "      <th>[0-50)</th>\n",
       "      <td>64.915125</td>\n",
       "      <td>35.084875</td>\n",
       "    </tr>\n",
       "    <tr>\n",
       "      <th>[50-60)</th>\n",
       "      <td>62.463539</td>\n",
       "      <td>37.536461</td>\n",
       "    </tr>\n",
       "    <tr>\n",
       "      <th>[60-70)</th>\n",
       "      <td>59.647074</td>\n",
       "      <td>40.352926</td>\n",
       "    </tr>\n",
       "    <tr>\n",
       "      <th>[70-80)</th>\n",
       "      <td>55.912028</td>\n",
       "      <td>44.087972</td>\n",
       "    </tr>\n",
       "    <tr>\n",
       "      <th>[80-100)</th>\n",
       "      <td>57.449572</td>\n",
       "      <td>42.550428</td>\n",
       "    </tr>\n",
       "    <tr>\n",
       "      <th>All</th>\n",
       "      <td>59.565198</td>\n",
       "      <td>40.434802</td>\n",
       "    </tr>\n",
       "  </tbody>\n",
       "</table>\n",
       "</div>"
      ],
      "text/plain": [
       "readmitted          0          1\n",
       "age                             \n",
       "[0-50)      64.915125  35.084875\n",
       "[50-60)     62.463539  37.536461\n",
       "[60-70)     59.647074  40.352926\n",
       "[70-80)     55.912028  44.087972\n",
       "[80-100)    57.449572  42.550428\n",
       "All         59.565198  40.434802"
      ]
     },
     "execution_count": 97,
     "metadata": {},
     "output_type": "execute_result"
    }
   ],
   "source": [
    "# Primeiro calculamos os percentuais\n",
    "percentual_idade_readmissao = pd.crosstab(dados.age , dados.readmitted, margins = True, normalize = 'index') * 100\n",
    "percentual_idade_readmissao"
   ]
  },
  {
   "cell_type": "code",
   "execution_count": 98,
   "id": "5847767f",
   "metadata": {},
   "outputs": [
    {
     "data": {
      "image/png": "[encoded data removed]",
      "text/plain": [
       "<Figure size 1152x504 with 1 Axes>"
      ]
     },
     "metadata": {
      "needs_background": "light"
     },
     "output_type": "display_data"
    }
   ],
   "source": [
    "# Cria o gráfico\n",
    "# Observe que chamamos o plot a partir do dataframe usando nesse caso o Matplotlib\n",
    "fig = percentual_idade_readmissao.plot(kind = 'bar', \n",
    "                                       figsize = (16, 7), \n",
    "                                       width = 0.5,\n",
    "                                       edgecolor = 'g', \n",
    "                                       color = ['b', 'r'])\n",
    "\n",
    "# Legenda\n",
    "plt.legend(title = 'Paciente Readmitido', labels = ('Não', 'Sim'))\n",
    "\n",
    "# Label do eixo x\n",
    "plt.xlabel(\"Faixa Etária\", fontsize = 14, color = 'black')\n",
    "\n",
    "# Label do eixo y\n",
    "plt.ylabel(\"Total de Readmissões\", fontsize = 14, color = 'black')\n",
    "\n",
    "# Título\n",
    "plt.title(\"Percentual de Readmissões/Não Readmissões de Pacientes Por Faixa Etária\", fontsize = 12)\n",
    "\n",
    "# Coloca os totais em cada uma das barras como labels\n",
    "for p in fig.patches:\n",
    "    fig.annotate('{:.0f}'.format(p.get_height()), \n",
    "                 (p.get_x() + 0.2, p.get_height()), \n",
    "                 ha = 'center', \n",
    "                 va = 'bottom', \n",
    "                 fontsize = 14,\n",
    "                 color = 'black')\n",
    "\n",
    "# Mostra o gráfico\n",
    "plt.show()"
   ]
  },
  {
   "cell_type": "markdown",
   "id": "090cd258",
   "metadata": {},
   "source": [
    "#### 5- Total de Readmissões de Pacientes Por Gênero, Por Idade e Por Tipo de Admissão"
   ]
  },
  {
   "cell_type": "markdown",
   "id": "84e65b85",
   "metadata": {},
   "source": [
    "> Mulheres na faixa etária de 70-80 anos tem um número maior de readmissões por emergência."
   ]
  },
  {
   "cell_type": "code",
   "execution_count": 99,
   "id": "403d6121",
   "metadata": {},
   "outputs": [
    {
     "data": {
      "text/html": [
       "<div>\n",
       "<style scoped>\n",
       "    .dataframe tbody tr th:only-of-type {\n",
       "        vertical-align: middle;\n",
       "    }\n",
       "\n",
       "    .dataframe tbody tr th {\n",
       "        vertical-align: top;\n",
       "    }\n",
       "\n",
       "    .dataframe thead th {\n",
       "        text-align: right;\n",
       "    }\n",
       "</style>\n",
       "<table border=\"1\" class=\"dataframe\">\n",
       "  <thead>\n",
       "    <tr style=\"text-align: right;\">\n",
       "      <th>admissao</th>\n",
       "      <th>sexo</th>\n",
       "      <th>idade</th>\n",
       "      <th>Emergencia</th>\n",
       "      <th>Outro</th>\n",
       "    </tr>\n",
       "  </thead>\n",
       "  <tbody>\n",
       "    <tr>\n",
       "      <th>0</th>\n",
       "      <td>0</td>\n",
       "      <td>[0-50)</td>\n",
       "      <td>2765</td>\n",
       "      <td>2832</td>\n",
       "    </tr>\n",
       "    <tr>\n",
       "      <th>1</th>\n",
       "      <td>0</td>\n",
       "      <td>[50-60)</td>\n",
       "      <td>2978</td>\n",
       "      <td>2860</td>\n",
       "    </tr>\n",
       "    <tr>\n",
       "      <th>2</th>\n",
       "      <td>0</td>\n",
       "      <td>[60-70)</td>\n",
       "      <td>3634</td>\n",
       "      <td>3896</td>\n",
       "    </tr>\n",
       "    <tr>\n",
       "      <th>3</th>\n",
       "      <td>0</td>\n",
       "      <td>[70-80)</td>\n",
       "      <td>4808</td>\n",
       "      <td>4654</td>\n",
       "    </tr>\n",
       "    <tr>\n",
       "      <th>4</th>\n",
       "      <td>0</td>\n",
       "      <td>[80-100)</td>\n",
       "      <td>4791</td>\n",
       "      <td>3364</td>\n",
       "    </tr>\n",
       "    <tr>\n",
       "      <th>5</th>\n",
       "      <td>1</td>\n",
       "      <td>[0-50)</td>\n",
       "      <td>2817</td>\n",
       "      <td>2072</td>\n",
       "    </tr>\n",
       "    <tr>\n",
       "      <th>6</th>\n",
       "      <td>1</td>\n",
       "      <td>[50-60)</td>\n",
       "      <td>3003</td>\n",
       "      <td>3158</td>\n",
       "    </tr>\n",
       "    <tr>\n",
       "      <th>7</th>\n",
       "      <td>1</td>\n",
       "      <td>[60-70)</td>\n",
       "      <td>3624</td>\n",
       "      <td>4260</td>\n",
       "    </tr>\n",
       "    <tr>\n",
       "      <th>8</th>\n",
       "      <td>1</td>\n",
       "      <td>[70-80)</td>\n",
       "      <td>3937</td>\n",
       "      <td>4243</td>\n",
       "    </tr>\n",
       "    <tr>\n",
       "      <th>9</th>\n",
       "      <td>1</td>\n",
       "      <td>[80-100)</td>\n",
       "      <td>2764</td>\n",
       "      <td>2169</td>\n",
       "    </tr>\n",
       "  </tbody>\n",
       "</table>\n",
       "</div>"
      ],
      "text/plain": [
       "admissao  sexo     idade  Emergencia  Outro\n",
       "0            0    [0-50)        2765   2832\n",
       "1            0   [50-60)        2978   2860\n",
       "2            0   [60-70)        3634   3896\n",
       "3            0   [70-80)        4808   4654\n",
       "4            0  [80-100)        4791   3364\n",
       "5            1    [0-50)        2817   2072\n",
       "6            1   [50-60)        3003   3158\n",
       "7            1   [60-70)        3624   4260\n",
       "8            1   [70-80)        3937   4243\n",
       "9            1  [80-100)        2764   2169"
      ]
     },
     "execution_count": 99,
     "metadata": {},
     "output_type": "execute_result"
    }
   ],
   "source": [
    "data3 = {\n",
    "    'idade': dados['age'],\n",
    "    'readmissao': dados['readmitted'],\n",
    "    'admissao' : dados['admission_type_id'],\n",
    "    'sexo': dados['gender']\n",
    "}\n",
    "df3 = pd.DataFrame(data3)\n",
    "\n",
    "readmissao_ad_sexo_idade = df3.pivot_table(index=['sexo', 'idade'], columns='admissao', values='readmissao', aggfunc='size', fill_value=0).reset_index().rename(columns={0: 'admissao_0', 1: 'admissao_1'})\n",
    "\n",
    "readmissao_ad_sexo_idade\n"
   ]
  },
  {
   "cell_type": "code",
   "execution_count": 100,
   "id": "881b4c9b",
   "metadata": {},
   "outputs": [
    {
     "data": {
      "image/png": "[encoded data removed]",
      "text/plain": [
       "<Figure size 1008x504 with 2 Axes>"
      ]
     },
     "metadata": {},
     "output_type": "display_data"
    }
   ],
   "source": [
    "# Vamos incluir o background\n",
    "sns.set(style = \"white\", context = \"talk\")\n",
    "\n",
    "# Criação do gráfico de barras com catplot\n",
    "g = sns.catplot(x = 'age', \n",
    "                y = 'readmitted', \n",
    "                hue = 'gender', \n",
    "                col = 'admission_type_id',\n",
    "                estimator = np.sum, \n",
    "                data = dados, \n",
    "                palette = \"RdBu\", \n",
    "                kind = \"bar\",\n",
    "                height = 7, \n",
    "                aspect = 1,\n",
    "                legend = False,\n",
    "                ci = None)\n",
    "\n",
    "# Labels\n",
    "(g.set_axis_labels(\"\", \"Total de Readmissões\")\n",
    " .set_xticklabels([\"[0-50]\", \"[50-60]\", \"[60-70]\", \"[70-80]\", \"[80-100]\"])\n",
    " .set_titles(\"{col_name}\"))\n",
    "\n",
    "# Legenda\n",
    "plt.legend(title = 'Gênero', loc = 'upper left', labels = ['Feminino', 'Masculino'])\n",
    "\n",
    "# Mostra o gráfico\n",
    "plt.show(g)"
   ]
  },
  {
   "cell_type": "markdown",
   "id": "2fffd5b8",
   "metadata": {},
   "source": [
    "**6- Total de Readmissões/Não Readmissões Por Gênero e Por Raça**"
   ]
  },
  {
   "cell_type": "markdown",
   "id": "35611a2d",
   "metadata": {},
   "source": [
    "> Mulheres Caucasianas são a maioria entre as mulheres readmitidas."
   ]
  },
  {
   "cell_type": "code",
   "execution_count": 101,
   "id": "d83ad3ac",
   "metadata": {
    "scrolled": false
   },
   "outputs": [
    {
     "data": {
      "text/html": [
       "<div>\n",
       "<style scoped>\n",
       "    .dataframe tbody tr th:only-of-type {\n",
       "        vertical-align: middle;\n",
       "    }\n",
       "\n",
       "    .dataframe tbody tr th {\n",
       "        vertical-align: top;\n",
       "    }\n",
       "\n",
       "    .dataframe thead th {\n",
       "        text-align: right;\n",
       "    }\n",
       "</style>\n",
       "<table border=\"1\" class=\"dataframe\">\n",
       "  <thead>\n",
       "    <tr style=\"text-align: right;\">\n",
       "      <th>readmissao</th>\n",
       "      <th>sexo</th>\n",
       "      <th>raca</th>\n",
       "      <th>admissao_0</th>\n",
       "      <th>admissao_1</th>\n",
       "    </tr>\n",
       "  </thead>\n",
       "  <tbody>\n",
       "    <tr>\n",
       "      <th>0</th>\n",
       "      <td>0</td>\n",
       "      <td>AfricanAmerican</td>\n",
       "      <td>4693</td>\n",
       "      <td>3018</td>\n",
       "    </tr>\n",
       "    <tr>\n",
       "      <th>1</th>\n",
       "      <td>0</td>\n",
       "      <td>Asian</td>\n",
       "      <td>167</td>\n",
       "      <td>77</td>\n",
       "    </tr>\n",
       "    <tr>\n",
       "      <th>2</th>\n",
       "      <td>0</td>\n",
       "      <td>Caucasian</td>\n",
       "      <td>15750</td>\n",
       "      <td>11496</td>\n",
       "    </tr>\n",
       "    <tr>\n",
       "      <th>3</th>\n",
       "      <td>0</td>\n",
       "      <td>Hispanic</td>\n",
       "      <td>513</td>\n",
       "      <td>284</td>\n",
       "    </tr>\n",
       "    <tr>\n",
       "      <th>4</th>\n",
       "      <td>0</td>\n",
       "      <td>Other</td>\n",
       "      <td>383</td>\n",
       "      <td>201</td>\n",
       "    </tr>\n",
       "    <tr>\n",
       "      <th>5</th>\n",
       "      <td>1</td>\n",
       "      <td>AfricanAmerican</td>\n",
       "      <td>3063</td>\n",
       "      <td>1891</td>\n",
       "    </tr>\n",
       "    <tr>\n",
       "      <th>6</th>\n",
       "      <td>1</td>\n",
       "      <td>Asian</td>\n",
       "      <td>171</td>\n",
       "      <td>70</td>\n",
       "    </tr>\n",
       "    <tr>\n",
       "      <th>7</th>\n",
       "      <td>1</td>\n",
       "      <td>Caucasian</td>\n",
       "      <td>15311</td>\n",
       "      <td>10285</td>\n",
       "    </tr>\n",
       "    <tr>\n",
       "      <th>8</th>\n",
       "      <td>1</td>\n",
       "      <td>Hispanic</td>\n",
       "      <td>435</td>\n",
       "      <td>245</td>\n",
       "    </tr>\n",
       "    <tr>\n",
       "      <th>9</th>\n",
       "      <td>1</td>\n",
       "      <td>Other</td>\n",
       "      <td>393</td>\n",
       "      <td>183</td>\n",
       "    </tr>\n",
       "  </tbody>\n",
       "</table>\n",
       "</div>"
      ],
      "text/plain": [
       "readmissao  sexo             raca  admissao_0  admissao_1\n",
       "0              0  AfricanAmerican        4693        3018\n",
       "1              0            Asian         167          77\n",
       "2              0        Caucasian       15750       11496\n",
       "3              0         Hispanic         513         284\n",
       "4              0            Other         383         201\n",
       "5              1  AfricanAmerican        3063        1891\n",
       "6              1            Asian         171          70\n",
       "7              1        Caucasian       15311       10285\n",
       "8              1         Hispanic         435         245\n",
       "9              1            Other         393         183"
      ]
     },
     "execution_count": 101,
     "metadata": {},
     "output_type": "execute_result"
    }
   ],
   "source": [
    "data4 = {\n",
    "    'readmissao': dados['readmitted'],\n",
    "    'raca' : dados['race'],\n",
    "    'sexo': dados['gender']\n",
    "}\n",
    "df4 = pd.DataFrame(data4)\n",
    "\n",
    "readmissao_raca_sexo = df4.pivot_table(index=['sexo', 'raca'], columns='readmissao', values='readmissao', aggfunc='size', fill_value=0).reset_index().rename(columns={0: 'admissao_0', 1: 'admissao_1'})\n",
    "readmissao_raca_sexo"
   ]
  },
  {
   "cell_type": "code",
   "execution_count": 102,
   "id": "3e82bf01",
   "metadata": {},
   "outputs": [
    {
     "data": {
      "text/plain": [
       "array(['Caucasian', 'AfricanAmerican', 'Other', 'Asian', 'Hispanic'],\n",
       "      dtype=object)"
      ]
     },
     "execution_count": 102,
     "metadata": {},
     "output_type": "execute_result"
    }
   ],
   "source": [
    "dados['race'].unique()"
   ]
  },
  {
   "cell_type": "code",
   "execution_count": 103,
   "id": "a71c5da6",
   "metadata": {},
   "outputs": [],
   "source": [
    "# Cria um dataframe temporário para ajustar o label da variável target para o plot\n",
    "df_temp = dados"
   ]
  },
  {
   "cell_type": "code",
   "execution_count": 104,
   "id": "cff20628",
   "metadata": {},
   "outputs": [],
   "source": [
    "# Faz o mapeamento de 0 e 1 para labels\n",
    "df_temp[\"readmitted\"] = df_temp[\"readmitted\"].map({0: \"Não Readmitido\", 1: \"Readmitido\"})"
   ]
  },
  {
   "cell_type": "code",
   "execution_count": 105,
   "id": "f7a61f08",
   "metadata": {},
   "outputs": [
    {
     "data": {
      "text/plain": [
       "1        Readmitido\n",
       "2    Não Readmitido\n",
       "3    Não Readmitido\n",
       "4    Não Readmitido\n",
       "5        Readmitido\n",
       "Name: readmitted, dtype: object"
      ]
     },
     "execution_count": 105,
     "metadata": {},
     "output_type": "execute_result"
    }
   ],
   "source": [
    "df_temp['readmitted'].head()"
   ]
  },
  {
   "cell_type": "code",
   "execution_count": 106,
   "id": "8ed8b063",
   "metadata": {},
   "outputs": [
    {
     "data": {
      "image/png": "[encoded data removed]",
      "text/plain": [
       "<Figure size 1440x720 with 2 Axes>"
      ]
     },
     "metadata": {},
     "output_type": "display_data"
    }
   ],
   "source": [
    "# Remove o background\n",
    "sns.set(style = \"white\", context = \"talk\")\n",
    "\n",
    "# Cria uma função para personalizar a quantidade de parâmetros\n",
    "def countplot(x, hue, **kwargs):\n",
    "    sns.countplot(x = x, hue = hue, **kwargs)\n",
    "\n",
    "# Cria um facetgrid (usando o dataframe temporário)\n",
    "grid = sns.FacetGrid(data = df_temp, col = 'readmitted', height = 10, aspect = 1)\n",
    "\n",
    "# Mapeamento do facetgrid às variáveis\n",
    "fig = grid.map(countplot, 'race', 'gender', palette = 'deep')\n",
    "\n",
    "# Labels\n",
    "(fig.set_axis_labels(\"\", \"Total de Readmissões\")\n",
    " .set_xticklabels([\"Caucasian\", \"AfricanAmerican\", \"Other\", \"Asian\", \"Hispanic\"])\n",
    " .set_titles('{col_name}'))\n",
    "\n",
    "# Legenda\n",
    "plt.legend(title = 'Gênero', loc = 'upper right', labels = ['Feminino', 'Masculino'])\n",
    "\n",
    "# Remove os contornos do gráfico\n",
    "sns.despine(bottom = True)"
   ]
  },
  {
   "cell_type": "markdown",
   "id": "d7f69a33",
   "metadata": {},
   "source": [
    "#### 7- Número de Visitas x Comorbidade"
   ]
  },
  {
   "cell_type": "markdown",
   "id": "e0ede0c8",
   "metadata": {},
   "source": [
    ">Pacientes com comorbidade tem o maior número de visitas."
   ]
  },
  {
   "cell_type": "code",
   "execution_count": 107,
   "id": "a6bd8a3b",
   "metadata": {},
   "outputs": [
    {
     "data": {
      "text/plain": [
       "comorbidade\n",
       "0    15483\n",
       "1    13032\n",
       "2    27076\n",
       "3    13038\n",
       "dtype: int64"
      ]
     },
     "execution_count": 107,
     "metadata": {},
     "output_type": "execute_result"
    }
   ],
   "source": [
    "# Criamos a tabela de contigência\n",
    "num_visitas_comorbidade = pd.crosstab(dados.number_inpatient, dados.comorbidade).sum()\n",
    "num_visitas_comorbidade"
   ]
  },
  {
   "cell_type": "code",
   "execution_count": 108,
   "id": "0ebd6b30",
   "metadata": {},
   "outputs": [
    {
     "data": {
      "image/png": "[encoded data removed]",
      "text/plain": [
       "<Figure size 864x576 with 1 Axes>"
      ]
     },
     "metadata": {},
     "output_type": "display_data"
    }
   ],
   "source": [
    "# Vamos remover as linhas do background\n",
    "sns.set(style = \"white\", context = \"talk\")\n",
    "\n",
    "# Cria o gráfico\n",
    "fig = num_visitas_comorbidade.plot(kind = 'bar',\n",
    "                                   figsize = (12,8), \n",
    "                                   width = 0.5,\n",
    "                                   edgecolor = 'g', \n",
    "                                   color = ['b','r','c','y'],\n",
    "                                   rot = 90)\n",
    "\n",
    "# Coloca os totais em cada uma das barras como labels\n",
    "for p in fig.patches:\n",
    "    fig.annotate('{:.0f}'.format(p.get_height()), \n",
    "                 (p.get_x() + 0.25, p.get_height()), \n",
    "                 ha = 'center', \n",
    "                 va = 'bottom', \n",
    "                 fontsize = 14,\n",
    "                 color = 'black')\n",
    "\n",
    "# Título\n",
    "plt.title(\"Número de Visitas do Paciente x Comorbidade\", fontsize = 14)\n",
    "\n",
    "# Mostra o gráfico\n",
    "plt.show()"
   ]
  },
  {
   "cell_type": "markdown",
   "id": "62ff4567",
   "metadata": {},
   "source": [
    "#### 8- Proporção de Readmissões Pelo Número de Visitas Antes da Alta"
   ]
  },
  {
   "cell_type": "markdown",
   "id": "a7995864",
   "metadata": {},
   "source": [
    "> Quanto mais visitas o paciente recebeu antes da alta, maior foi o volume de readmissões. Ou seja, quanto mais visitas o paciente recebe, maiores as chances de readmissão."
   ]
  },
  {
   "cell_type": "code",
   "execution_count": 109,
   "id": "e2c6d97f",
   "metadata": {},
   "outputs": [
    {
     "data": {
      "text/html": [
       "<div>\n",
       "<style scoped>\n",
       "    .dataframe tbody tr th:only-of-type {\n",
       "        vertical-align: middle;\n",
       "    }\n",
       "\n",
       "    .dataframe tbody tr th {\n",
       "        vertical-align: top;\n",
       "    }\n",
       "\n",
       "    .dataframe thead th {\n",
       "        text-align: right;\n",
       "    }\n",
       "</style>\n",
       "<table border=\"1\" class=\"dataframe\">\n",
       "  <thead>\n",
       "    <tr style=\"text-align: right;\">\n",
       "      <th>readmitted</th>\n",
       "      <th>Não Readmitido</th>\n",
       "      <th>Readmitido</th>\n",
       "    </tr>\n",
       "    <tr>\n",
       "      <th>number_inpatient</th>\n",
       "      <th></th>\n",
       "      <th></th>\n",
       "    </tr>\n",
       "  </thead>\n",
       "  <tbody>\n",
       "    <tr>\n",
       "      <th>0</th>\n",
       "      <td>62.088788</td>\n",
       "      <td>37.911212</td>\n",
       "    </tr>\n",
       "    <tr>\n",
       "      <th>1</th>\n",
       "      <td>45.879397</td>\n",
       "      <td>54.120603</td>\n",
       "    </tr>\n",
       "    <tr>\n",
       "      <th>2</th>\n",
       "      <td>34.692557</td>\n",
       "      <td>65.307443</td>\n",
       "    </tr>\n",
       "    <tr>\n",
       "      <th>3</th>\n",
       "      <td>29.363450</td>\n",
       "      <td>70.636550</td>\n",
       "    </tr>\n",
       "    <tr>\n",
       "      <th>4</th>\n",
       "      <td>24.137931</td>\n",
       "      <td>75.862069</td>\n",
       "    </tr>\n",
       "    <tr>\n",
       "      <th>5</th>\n",
       "      <td>20.388350</td>\n",
       "      <td>79.611650</td>\n",
       "    </tr>\n",
       "    <tr>\n",
       "      <th>6</th>\n",
       "      <td>12.500000</td>\n",
       "      <td>87.500000</td>\n",
       "    </tr>\n",
       "    <tr>\n",
       "      <th>7</th>\n",
       "      <td>10.000000</td>\n",
       "      <td>90.000000</td>\n",
       "    </tr>\n",
       "    <tr>\n",
       "      <th>8</th>\n",
       "      <td>16.666667</td>\n",
       "      <td>83.333333</td>\n",
       "    </tr>\n",
       "    <tr>\n",
       "      <th>9</th>\n",
       "      <td>25.000000</td>\n",
       "      <td>75.000000</td>\n",
       "    </tr>\n",
       "    <tr>\n",
       "      <th>10</th>\n",
       "      <td>20.000000</td>\n",
       "      <td>80.000000</td>\n",
       "    </tr>\n",
       "    <tr>\n",
       "      <th>11</th>\n",
       "      <td>0.000000</td>\n",
       "      <td>100.000000</td>\n",
       "    </tr>\n",
       "    <tr>\n",
       "      <th>12</th>\n",
       "      <td>0.000000</td>\n",
       "      <td>100.000000</td>\n",
       "    </tr>\n",
       "  </tbody>\n",
       "</table>\n",
       "</div>"
      ],
      "text/plain": [
       "readmitted        Não Readmitido  Readmitido\n",
       "number_inpatient                            \n",
       "0                      62.088788   37.911212\n",
       "1                      45.879397   54.120603\n",
       "2                      34.692557   65.307443\n",
       "3                      29.363450   70.636550\n",
       "4                      24.137931   75.862069\n",
       "5                      20.388350   79.611650\n",
       "6                      12.500000   87.500000\n",
       "7                      10.000000   90.000000\n",
       "8                      16.666667   83.333333\n",
       "9                      25.000000   75.000000\n",
       "10                     20.000000   80.000000\n",
       "11                      0.000000  100.000000\n",
       "12                      0.000000  100.000000"
      ]
     },
     "execution_count": 109,
     "metadata": {},
     "output_type": "execute_result"
    }
   ],
   "source": [
    "# Tabela de contingência\n",
    "percent_visitas_readm = pd.crosstab(dados.number_inpatient , dados.readmitted, normalize = 'index') * 100\n",
    "percent_visitas_readm"
   ]
  },
  {
   "cell_type": "code",
   "execution_count": 110,
   "id": "5b50ff4d",
   "metadata": {},
   "outputs": [
    {
     "data": {
      "image/png": "[encoded data removed]",
      "text/plain": [
       "<Figure size 1296x720 with 1 Axes>"
      ]
     },
     "metadata": {},
     "output_type": "display_data"
    }
   ],
   "source": [
    "# Cria o gráfico\n",
    "fig = percent_visitas_readm.plot(kind = 'bar', figsize = (18,10), width = 0.5, edgecolor = 'g', color = ['b','r'])\n",
    "\n",
    "# Coloca os totais em cada uma das barras como labels\n",
    "for p in fig.patches:\n",
    "    fig.annotate('{:.0f}'.format(p.get_height()), \n",
    "                 (p.get_x() + 0.1, p.get_height()), \n",
    "                 ha = 'center', \n",
    "                 va = 'bottom', \n",
    "                 fontsize = 14,\n",
    "                 color = 'black')\n",
    "\n",
    "# Título\n",
    "plt.title(\"Proporção de Readmissões Pelo Número de Visitas Antes da Alta\", fontsize = 15)\n",
    "\n",
    "# Legenda\n",
    "fig.legend(title = 'Paciente Readmitido', labels = ('Não', 'Sim'))\n",
    "\n",
    "# Mostra o gráfico\n",
    "plt.show()"
   ]
  },
  {
   "cell_type": "markdown",
   "id": "f5bee50a",
   "metadata": {},
   "source": [
    "# FIM"
   ]
  }
 ],
 "metadata": {
  "kernelspec": {
   "display_name": "Python 3 (ipykernel)",
   "language": "python",
   "name": "python3"
  },
  "language_info": {
   "codemirror_mode": {
    "name": "ipython",
    "version": 3
   },
   "file_extension": ".py",
   "mimetype": "text/x-python",
   "name": "python",
   "nbconvert_exporter": "python",
   "pygments_lexer": "ipython3",
   "version": "3.9.12"
  }
 },
 "nbformat": 4,
 "nbformat_minor": 5
}
